{
 "cells": [
  {
   "cell_type": "markdown",
   "id": "4e0c95a7-783a-4bee-83bd-7d3ccb1dc11d",
   "metadata": {},
   "source": [
    "# CLIP with conformal prediction\n",
    "\n",
    "Comparing prediciton set size across different datasets"
   ]
  },
  {
   "cell_type": "code",
   "execution_count": 1,
   "id": "920f7d48-46be-4568-b372-5da6ba8b09db",
   "metadata": {},
   "outputs": [
    {
     "name": "stderr",
     "output_type": "stream",
     "text": [
      "2023-03-19 18:17:21.369374: I tensorflow/core/platform/cpu_feature_guard.cc:193] This TensorFlow binary is optimized with oneAPI Deep Neural Network Library (oneDNN) to use the following CPU instructions in performance-critical operations:  AVX2 AVX512F AVX512_VNNI FMA\n",
      "To enable them in other operations, rebuild TensorFlow with the appropriate compiler flags.\n",
      "2023-03-19 18:17:21.504055: I tensorflow/core/util/port.cc:104] oneDNN custom operations are on. You may see slightly different numerical results due to floating-point round-off errors from different computation orders. To turn them off, set the environment variable `TF_ENABLE_ONEDNN_OPTS=0`.\n",
      "2023-03-19 18:17:22.117505: W tensorflow/compiler/xla/stream_executor/platform/default/dso_loader.cc:64] Could not load dynamic library 'libnvinfer.so.7'; dlerror: libnvinfer.so.7: cannot open shared object file: No such file or directory\n",
      "2023-03-19 18:17:22.117563: W tensorflow/compiler/xla/stream_executor/platform/default/dso_loader.cc:64] Could not load dynamic library 'libnvinfer_plugin.so.7'; dlerror: libnvinfer_plugin.so.7: cannot open shared object file: No such file or directory\n",
      "2023-03-19 18:17:22.117570: W tensorflow/compiler/tf2tensorrt/utils/py_utils.cc:38] TF-TRT Warning: Cannot dlopen some TensorRT libraries. If you would like to use Nvidia GPU with TensorRT, please make sure the missing libraries mentioned above are installed properly.\n"
     ]
    }
   ],
   "source": [
    "# import os; os.environ['CUDA_VISIBLE_DEVICES'] = '1'\n",
    "from pathlib import Path\n",
    "from functools import partial\n",
    "import pandas as pd\n",
    "import matplotlib.pyplot as plt; plt.style.use('bmh')\n",
    "import numpy as np\n",
    "import torch\n",
    "import torch.nn as nn\n",
    "import torch.optim as optim\n",
    "from torchvision import datasets, transforms\n",
    "from torch.utils.data import Dataset, DataLoader, BatchSampler\n",
    "assert torch.cuda.is_available()\n",
    "import clip\n",
    "import open_clip\n",
    "from tqdm import tqdm\n",
    "import wilds\n",
    "from conformal import (\n",
    "    get_quantile, make_prediction_sets, get_coverage, get_size, get_coverage_by_class\n",
    ")\n",
    "from dataset import ClipDataset, BalancedBatchSampler"
   ]
  },
  {
   "cell_type": "code",
   "execution_count": 65,
   "id": "f45c968d-4a8c-42fa-9771-e6b8aca6633b",
   "metadata": {},
   "outputs": [],
   "source": [
    "def finetune(model, train_dl, test_dl=None, epochs=1, batch_size=100, save_name=None):\n",
    "\n",
    "    #https://github.com/openai/CLIP/issues/57\n",
    "    def convert_models_to_fp32(model): \n",
    "        for p in model.parameters(): \n",
    "            if p.requires_grad:\n",
    "                p.data = p.data.float() \n",
    "                p.grad.data = p.grad.data.float() \n",
    "\n",
    "    if device == \"cpu\":\n",
    "        model.float()\n",
    "        \n",
    "    for name, param in model.named_parameters():\n",
    "        if name not in [\n",
    "            'transformer.resblocks.11.mlp.c_fc.weight',\n",
    "            'transformer.resblocks.11.mlp.c_fc.bias',\n",
    "            'transformer.resblocks.11.mlp.c_proj.weight',\n",
    "            'transformer.resblocks.11.mlp.c_proj.bias',\n",
    "            'transformer.resblocks.11.ln_2.weight',\n",
    "            'transformer.resblocks.11.ln_2.bias',\n",
    "            'token_embedding.weight',\n",
    "            'ln_final.weight',\n",
    "            'ln_final.bias',\n",
    "        ]:\n",
    "            param.requires_grad = False\n",
    "\n",
    "    loss_img = nn.CrossEntropyLoss()\n",
    "    loss_txt = nn.CrossEntropyLoss()\n",
    "    # optimizer = optim.Adam(model.parameters(), lr=5e-5,betas=(0.9,0.98),eps=1e-6,weight_decay=0.2)\n",
    "    model.visual.transformer.resblocks[-1].mlp.requires_grad_()\n",
    "    params_to_update = model.visual.transformer.resblocks[-1].mlp\n",
    "    optimizer = optim.Adam(params_to_update.parameters(), lr=1e-5)\n",
    "    # scheduler = optim.lr_scheduler.CosineAnnealingLR(optimizer, len(train_dl)*epochs)\n",
    "\n",
    "    best_te_loss = 1e5\n",
    "    best_ep = -1\n",
    "    for epoch in range(epochs):\n",
    "        print(f\"running epoch {epoch}, best test loss {best_te_loss} after epoch {best_ep}\")\n",
    "        step = 0\n",
    "        tr_loss = 0\n",
    "        model.train()\n",
    "        pbar = tqdm(train_dl, leave=False)\n",
    "        for batch in pbar:\n",
    "            step += 1\n",
    "            optimizer.zero_grad()\n",
    "\n",
    "            images, labels, texts = batch\n",
    "            images = images.to(device)\n",
    "            texts = clip.tokenize(texts).to(device)\n",
    "    #         print(images.shape, texts.shape)\n",
    "            logits_per_image, logits_per_text = model(images, texts)\n",
    "            ground_truth = torch.arange(batch_size).to(device)\n",
    "\n",
    "            total_loss = (loss_img(logits_per_image, ground_truth) + loss_txt(logits_per_text, ground_truth))/2\n",
    "            total_loss.backward()\n",
    "            tr_loss += total_loss.item()\n",
    "            if device == \"cpu\":\n",
    "                optimizer.step()\n",
    "                # scheduler.step()\n",
    "            else:\n",
    "                convert_models_to_fp32(model)\n",
    "                optimizer.step()\n",
    "                # scheduler.step()\n",
    "                clip.model.convert_weights(model)\n",
    "            pbar.set_description(f\"train batch CE: {total_loss.item()}\", refresh=True)\n",
    "        tr_loss /= step\n",
    "\n",
    "    if test_dl is not None:\n",
    "        step = 0\n",
    "        te_loss = 0\n",
    "        with torch.no_grad():\n",
    "            model.eval()\n",
    "            test_pbar = tqdm(test_dl, leave=False)\n",
    "            for batch in test_pbar:\n",
    "                step += 1\n",
    "                images, labels, texts = batch\n",
    "                images = images.to(device)\n",
    "                texts = clip.tokenize(texts).to(device)\n",
    "                logits_per_image, logits_per_text = model(images, texts)\n",
    "                ground_truth = torch.arange(batch_size).to(device)\n",
    "\n",
    "                total_loss = (loss_img(logits_per_image, ground_truth) + loss_txt(logits_per_text, ground_truth))/2\n",
    "                te_loss += total_loss.item()\n",
    "                test_pbar.set_description(f\"test batch CE: {total_loss.item()}\", refresh=True)\n",
    "            te_loss /= step\n",
    "\n",
    "        if te_loss < best_te_loss:\n",
    "            best_te_loss = te_loss\n",
    "            best_ep = epoch\n",
    "            if save_name is not None:\n",
    "                torch.save(model.state_dict(), f\"model_{save_name}_best.pt\")\n",
    "        print(f\"epoch {epoch}, tr_loss {tr_loss}, te_loss {te_loss}\")\n",
    "\n",
    "        if save_name is not None:\n",
    "            torch.save(model.state_dict(), f\"model_{save_name}_last.pt\")\n",
    "    return model"
   ]
  },
  {
   "cell_type": "code",
   "execution_count": 29,
   "id": "d15b2905-94f6-43d1-a0a7-1196a7a0a46a",
   "metadata": {},
   "outputs": [],
   "source": [
    "def conformal_prediction(model, test_ds, classes, frac=0.1, alpha=0.1):\n",
    "    true_class = []\n",
    "    pred_class = []\n",
    "    pred_scores = []\n",
    "\n",
    "    with torch.no_grad(), torch.cuda.amp.autocast():\n",
    "        prompt = clip.tokenize(['a ' + c for c in classes]).cuda()\n",
    "        text_features = model.encode_text(prompt)\n",
    "        text_features /= text_features.norm(dim=-1, keepdim=True)\n",
    "\n",
    "        for i in tqdm(range(len(test_ds))):\n",
    "            x, y, _ = test_ds[i]\n",
    "            image_features = model.encode_image(x.unsqueeze(0).cuda())\n",
    "            image_features /= image_features.norm(dim=-1, keepdim=True)\n",
    "            scores = (image_features @ text_features.T).softmax(dim=-1)\n",
    "\n",
    "            true_class.append(y)\n",
    "            pred_class.append(scores.argmax().item())\n",
    "            pred_scores.append(scores.detach().cpu().numpy().squeeze())\n",
    "\n",
    "    true_class = np.asarray(true_class)\n",
    "    pred_class = np.asarray(pred_class)\n",
    "    pred_scores = np.asarray(pred_scores)\n",
    "\n",
    "    acc = (true_class == pred_class).sum() / true_class.shape[0]\n",
    "    print(f'ACCURACY: {acc:.1%}')\n",
    "\n",
    "    n = int(round(frac * len(pred_scores)))\n",
    "    cal_scores = torch.tensor(pred_scores[:n])\n",
    "    cal_targets = torch.tensor(true_class[:n])\n",
    "    val_scores = torch.tensor(pred_scores[n:])\n",
    "    val_targets = torch.tensor(true_class[n:])\n",
    "\n",
    "    qhat = get_quantile(cal_scores, cal_targets, alpha=alpha)\n",
    "    psets = make_prediction_sets(val_scores, qhat)\n",
    "\n",
    "    print(f'COVERAGE: {get_coverage(psets, val_targets):.1%}')\n",
    "    print(f'SET SIZE: {get_size(psets):.1f}')\n",
    "    return psets, val_targets"
   ]
  },
  {
   "cell_type": "markdown",
   "id": "3eff497b-8059-4a9f-92ca-68ecb40e1c62",
   "metadata": {},
   "source": [
    "### CIFAR100"
   ]
  },
  {
   "cell_type": "code",
   "execution_count": 90,
   "id": "ebc9b7e4-438d-4c95-978a-56f79127a95e",
   "metadata": {},
   "outputs": [],
   "source": [
    "data_dir = Path('../data')\n",
    "device = \"cuda\" if torch.cuda.is_available() else \"cpu\""
   ]
  },
  {
   "cell_type": "code",
   "execution_count": 91,
   "id": "278c595e-c4d7-497c-9056-a178ff65fd86",
   "metadata": {},
   "outputs": [],
   "source": [
    "k = 10000\n",
    "model, preprocess = clip.load(\"ViT-B/32\", device=device, jit=False)\n",
    "\n",
    "    \n",
    "_transforms = transforms.Compose([\n",
    "    transforms.ToPILImage(),\n",
    "    preprocess,\n",
    "])\n",
    "\n",
    "cifar_train = datasets.CIFAR100(root=data_dir, train=True)\n",
    "cifar_test = datasets.CIFAR100(root=data_dir, train=False)\n",
    "\n",
    "cifar_classes = tuple(cifar_test.classes)\n",
    "cifar_class_map = dict(map(reversed, cifar_test.class_to_idx.items()))\n",
    "cifar_num_classes = len(cifar_classes)\n",
    "\n",
    "cifar_train_ds = ClipDataset(cifar_train.data, cifar_train.targets, class_map=cifar_class_map, transforms=_transforms, k=k)\n",
    "cifar_test_ds = ClipDataset(cifar_test.data, cifar_test.targets, class_map=cifar_class_map, transforms=_transforms, k=k)\n",
    "\n",
    "cifar_train_sampler = BalancedBatchSampler(cifar_train.targets, cifar_num_classes)\n",
    "cifar_train_dl = DataLoader(cifar_train_ds, batch_sampler=cifar_train_sampler)\n",
    "cifar_test_sampler = BalancedBatchSampler(cifar_test.targets, cifar_num_classes)\n",
    "cifar_test_dl = DataLoader(cifar_test_ds, batch_sampler=cifar_test_sampler)"
   ]
  },
  {
   "cell_type": "code",
   "execution_count": 92,
   "id": "a8fa0f4c-362f-4f39-a5e8-7a042efce331",
   "metadata": {},
   "outputs": [],
   "source": [
    "sample = next(iter(cifar_train_dl))[2]\n",
    "batch_size = len(sample)\n",
    "assert batch_size == len(set(sample))"
   ]
  },
  {
   "cell_type": "code",
   "execution_count": 93,
   "id": "cd0c66a3-729f-415e-a266-a9ef580ad5b1",
   "metadata": {},
   "outputs": [
    {
     "name": "stderr",
     "output_type": "stream",
     "text": [
      "100%|██████████| 10000/10000 [01:33<00:00, 106.90it/s]"
     ]
    },
    {
     "name": "stdout",
     "output_type": "stream",
     "text": [
      "ACCURACY: 60.2%\n",
      "COVERAGE: 90.2%\n",
      "SET SIZE: 9.2\n"
     ]
    },
    {
     "name": "stderr",
     "output_type": "stream",
     "text": [
      "\n"
     ]
    }
   ],
   "source": [
    "cifar_psets_no_finetune, cifar_targets_no_finetune = conformal_prediction(model, cifar_test_ds, classes=cifar_classes)"
   ]
  },
  {
   "cell_type": "code",
   "execution_count": 94,
   "id": "449c23ec-8a37-4e13-8794-192b873591fc",
   "metadata": {},
   "outputs": [
    {
     "name": "stdout",
     "output_type": "stream",
     "text": [
      "running epoch 0, best test loss 100000.0 after epoch -1\n"
     ]
    },
    {
     "name": "stderr",
     "output_type": "stream",
     "text": [
      "                                                                                        \r"
     ]
    }
   ],
   "source": [
    "model = finetune(model, cifar_train_dl, test_dl=None, epochs=1, batch_size=cifar_num_classes, save_name=None)"
   ]
  },
  {
   "cell_type": "code",
   "execution_count": 95,
   "id": "4527161d-941c-4010-b4cc-aaf4ed4e4291",
   "metadata": {},
   "outputs": [
    {
     "name": "stderr",
     "output_type": "stream",
     "text": [
      "100%|██████████| 10000/10000 [01:34<00:00, 106.31it/s]"
     ]
    },
    {
     "name": "stdout",
     "output_type": "stream",
     "text": [
      "ACCURACY: 64.5%\n",
      "COVERAGE: 90.7%\n",
      "SET SIZE: 6.8\n"
     ]
    },
    {
     "name": "stderr",
     "output_type": "stream",
     "text": [
      "\n"
     ]
    }
   ],
   "source": [
    "cifar_psets_finetune, cifar_targets_finetune = conformal_prediction(model, cifar_test_ds, classes=cifar_classes)"
   ]
  },
  {
   "cell_type": "markdown",
   "id": "6f04262c-78eb-424a-8d6c-bf3fbcab1d76",
   "metadata": {},
   "source": [
    "### ImageNet"
   ]
  },
  {
   "cell_type": "code",
   "execution_count": 85,
   "id": "284fa2be-0d6d-4b24-a36a-2d02c8081e84",
   "metadata": {},
   "outputs": [],
   "source": [
    "k = 10000\n",
    "val_data = np.load(data_dir/'Imagenet64_val_npz/val_data.npz')\n",
    "images = val_data['data'].reshape(-1, 3, 64, 64)\n",
    "labels = val_data['labels']\n",
    "random_perm = np.random.permutation(images.shape[0])\n",
    "train_subset = random_perm[:k]\n",
    "test_subset = random_perm[k:2*k]\n",
    "train_images = images[train_subset]\n",
    "train_labels = labels[train_subset]\n",
    "test_images = images[test_subset]\n",
    "test_labels = labels[test_subset]\n",
    "df = pd.read_csv(data_dir/'map_clsloc.txt', sep=' ', header=None, names=['id', 'index', 'class'])\n",
    "df['index'] = df['index'] - 1\n",
    "imagenet_classes = df['class'].values\n",
    "imagenet_num_classes = len(imagenet_classes)\n",
    "imagenet_class_map = dict(df[['index', 'class']].values)\n",
    "\n",
    "imagenet_train_ds = ClipDataset(\n",
    "    train_images, train_labels, \n",
    "    transforms=transforms.Compose([\n",
    "        transforms.Lambda(lambda x: np.moveaxis(x, 0, -1)),\n",
    "        transforms.ToPILImage(),\n",
    "        preprocess,\n",
    "    ]),\n",
    "    target_transforms=transforms.Lambda(lambda y: y - 1),\n",
    "    class_map=imagenet_class_map,\n",
    "    k=k,\n",
    ")\n",
    "imagenet_test_ds = ClipDataset(\n",
    "    test_images, test_labels, \n",
    "    transforms=transforms.Compose([\n",
    "        transforms.Lambda(lambda x: np.moveaxis(x, 0, -1)),\n",
    "        transforms.ToPILImage(),\n",
    "        preprocess,\n",
    "    ]),\n",
    "    target_transforms=transforms.Lambda(lambda y: y - 1),\n",
    "    class_map=imagenet_class_map,\n",
    "    k=k,\n",
    ")\n",
    "imagenet_train_sampler = BalancedBatchSampler(train_labels, imagenet_num_classes)\n",
    "imagenet_train_dl = DataLoader(imagenet_train_ds, batch_sampler=imagenet_train_sampler)\n",
    "imagenet_test_sampler = BalancedBatchSampler(test_labels, imagenet_num_classes)\n",
    "imagenet_test_dl = DataLoader(imagenet_test_ds, batch_sampler=imagenet_test_sampler)"
   ]
  },
  {
   "cell_type": "code",
   "execution_count": 86,
   "id": "3e0cca6c-46d8-469e-a1e8-d2a3dda256a3",
   "metadata": {},
   "outputs": [],
   "source": [
    "model, preprocess = clip.load(\"ViT-B/32\", device=device, jit=False)\n",
    "_transforms = transforms.Compose([\n",
    "    transforms.ToPILImage(),\n",
    "    preprocess,\n",
    "])\n",
    "epochs = 1\n",
    "sample = next(iter(imagenet_train_dl))[2]\n",
    "batch_size = len(sample)\n",
    "# assert batch_size == len(set(sample))"
   ]
  },
  {
   "cell_type": "code",
   "execution_count": 87,
   "id": "2e22052b-acdc-427d-ac6b-1509584fccf6",
   "metadata": {},
   "outputs": [
    {
     "name": "stderr",
     "output_type": "stream",
     "text": [
      "100%|██████████| 10000/10000 [01:35<00:00, 104.94it/s]"
     ]
    },
    {
     "name": "stdout",
     "output_type": "stream",
     "text": [
      "ACCURACY: 35.8%\n",
      "COVERAGE: 89.8%\n",
      "SET SIZE: 59.9\n"
     ]
    },
    {
     "name": "stderr",
     "output_type": "stream",
     "text": [
      "\n"
     ]
    }
   ],
   "source": [
    "imagenet_psets_no_finetune, imagenet_targets_no_finetune = conformal_prediction(model, imagenet_test_ds, classes=imagenet_classes)"
   ]
  },
  {
   "cell_type": "code",
   "execution_count": 88,
   "id": "ce88a714-78bc-4b2c-916f-8b346abcd638",
   "metadata": {},
   "outputs": [
    {
     "name": "stdout",
     "output_type": "stream",
     "text": [
      "running epoch 0, best test loss 100000.0 after epoch -1\n"
     ]
    },
    {
     "name": "stderr",
     "output_type": "stream",
     "text": [
      "                                                                           \r"
     ]
    }
   ],
   "source": [
    "model = finetune(model, imagenet_train_dl, test_dl=None, epochs=epochs, batch_size=imagenet_num_classes, save_name=None)"
   ]
  },
  {
   "cell_type": "code",
   "execution_count": 89,
   "id": "4f9db2bc-5540-438c-bfbf-76cafe8a1995",
   "metadata": {},
   "outputs": [
    {
     "name": "stderr",
     "output_type": "stream",
     "text": [
      "100%|██████████| 10000/10000 [01:46<00:00, 94.30it/s]"
     ]
    },
    {
     "name": "stdout",
     "output_type": "stream",
     "text": [
      "ACCURACY: 43.0%\n",
      "COVERAGE: 89.8%\n",
      "SET SIZE: 41.2\n"
     ]
    },
    {
     "name": "stderr",
     "output_type": "stream",
     "text": [
      "\n"
     ]
    }
   ],
   "source": [
    "imagenet_psets_finetune, imagenet_targets_finetune = conformal_prediction(model, imagenet_test_ds, classes=imagenet_classes)"
   ]
  },
  {
   "cell_type": "code",
   "execution_count": null,
   "id": "b8d4de9b-f312-42b5-8ef3-ceab771cd811",
   "metadata": {},
   "outputs": [],
   "source": []
  },
  {
   "cell_type": "code",
   "execution_count": 103,
   "id": "00635f9a-c355-49b2-a14b-b9d5579bccb1",
   "metadata": {},
   "outputs": [
    {
     "data": {
      "text/plain": [
       "([<matplotlib.axis.YTick at 0x7f49908485b0>,\n",
       "  <matplotlib.axis.YTick at 0x7f499082ef10>,\n",
       "  <matplotlib.axis.YTick at 0x7f499082e790>,\n",
       "  <matplotlib.axis.YTick at 0x7f496fbb7250>],\n",
       " [Text(0, 1, 'CIFAR100 \\n no probing'),\n",
       "  Text(0, 2, 'CIFAR100 \\n with probing'),\n",
       "  Text(0, 3, 'Mini-ImageNet \\n no probing'),\n",
       "  Text(0, 4, 'Mini-ImageNet \\n with probing')])"
      ]
     },
     "execution_count": 103,
     "metadata": {},
     "output_type": "execute_result"
    },
    {
     "data": {
      "image/png": "[encoded data removed]",
      "text/plain": [
       "<Figure size 1000x600 with 1 Axes>"
      ]
     },
     "metadata": {},
     "output_type": "display_data"
    }
   ],
   "source": [
    "sizes = [\n",
    "    cifar_psets_no_finetune.sum(1),\n",
    "    cifar_psets_finetune.sum(1),\n",
    "    imagenet_psets_no_finetune.sum(1),\n",
    "    imagenet_psets_finetune.sum(1),\n",
    "]\n",
    "fontsize=24\n",
    "plt.figure(figsize=(10, 6))\n",
    "plt.violinplot(sizes, vert=False, widths=1.0, showmedians=True)\n",
    "plt.xlabel('Prediction set size', fontsize=fontsize)\n",
    "plt.xticks(fontsize=fontsize-4)\n",
    "plt.yticks(ticks=range(1, 5), labels=[f'CIFAR100 \\n no probing', f'CIFAR100 \\n with probing', f'Mini-ImageNet \\n no probing', f'Mini-ImageNet \\n with probing'], fontsize=fontsize-6)"
   ]
  },
  {
   "cell_type": "code",
   "execution_count": null,
   "id": "c525cf89-9eec-494d-ab00-5325936d705f",
   "metadata": {},
   "outputs": [],
   "source": []
  },
  {
   "cell_type": "code",
   "execution_count": null,
   "id": "851308e3-17bf-49e7-9489-e7bfd3a448b4",
   "metadata": {},
   "outputs": [],
   "source": []
  },
  {
   "cell_type": "markdown",
   "id": "c12e4643-1852-4ba6-9b87-2d5d8d0ba5f9",
   "metadata": {},
   "source": [
    "### iwildcam (TODO)"
   ]
  },
  {
   "cell_type": "code",
   "execution_count": 80,
   "id": "962dc647-32fc-412e-bf09-8106c1502571",
   "metadata": {},
   "outputs": [
    {
     "name": "stdout",
     "output_type": "stream",
     "text": [
      "7314 8154\n"
     ]
    },
    {
     "ename": "NameError",
     "evalue": "name 'wild_train_ds' is not defined",
     "output_type": "error",
     "traceback": [
      "\u001b[0;31m---------------------------------------------------------------------------\u001b[0m",
      "\u001b[0;31mNameError\u001b[0m                                 Traceback (most recent call last)",
      "Cell \u001b[0;32mIn[80], line 12\u001b[0m\n\u001b[1;32m      9\u001b[0m wild_num_classes \u001b[38;5;241m=\u001b[39m \u001b[38;5;28mlen\u001b[39m(wild_class_map)\n\u001b[1;32m     11\u001b[0m wild_train_sampler \u001b[38;5;241m=\u001b[39m BalancedBatchSampler(train_labels, wild_num_classes)\n\u001b[0;32m---> 12\u001b[0m wild_train_dl \u001b[38;5;241m=\u001b[39m DataLoader(\u001b[43mwild_train_ds\u001b[49m, batch_sampler\u001b[38;5;241m=\u001b[39mwild_train_sampler)\n\u001b[1;32m     13\u001b[0m wild_test_sampler \u001b[38;5;241m=\u001b[39m BalancedBatchSampler(test_labels, wild_num_classes)\n\u001b[1;32m     14\u001b[0m wild_test_dl \u001b[38;5;241m=\u001b[39m DataLoader(wild_test_ds, batch_sampler\u001b[38;5;241m=\u001b[39mwild_test_sampler)\n",
      "\u001b[0;31mNameError\u001b[0m: name 'wild_train_ds' is not defined"
     ]
    }
   ],
   "source": [
    "wild_dataset = wilds.get_dataset(dataset='iwildcam', root_dir=data_dir/'wilds')\n",
    "wild_train = wild_dataset.get_subset('id_val')\n",
    "wild_test = wild_dataset.get_subset('id_test', frac=1.0)\n",
    "print(len(wild_train), len(wild_test))\n",
    "\n",
    "wild_df = pd.read_csv(wild_dataset._data_dir / 'categories.csv')\n",
    "wild_class_map = dict(wild_df[['y', 'name']].values)\n",
    "wild_classes = tuple(wild_class_map.values())\n",
    "wild_num_classes = len(wild_class_map)\n",
    "\n",
    "wild_train_sampler = BalancedBatchSampler(train_labels, wild_num_classes)\n",
    "wild_train_dl = DataLoader(wild_train_ds, batch_sampler=wild_train_sampler)\n",
    "wild_test_sampler = BalancedBatchSampler(test_labels, wild_num_classes)\n",
    "wild_test_dl = DataLoader(wild_test_ds, batch_sampler=wild_test_sampler)"
   ]
  },
  {
   "cell_type": "code",
   "execution_count": 83,
   "id": "0077e3b2-6d17-4bd3-b3fa-8ad0da02776f",
   "metadata": {},
   "outputs": [
    {
     "data": {
      "text/plain": [
       "tensor([ 8,  8,  8,  ..., 52, 52, 52])"
      ]
     },
     "execution_count": 83,
     "metadata": {},
     "output_type": "execute_result"
    }
   ],
   "source": [
    "wild_train.y_array"
   ]
  },
  {
   "cell_type": "code",
   "execution_count": null,
   "id": "efd74dbf-b29b-4040-92d7-ab3d277604fa",
   "metadata": {},
   "outputs": [],
   "source": []
  },
  {
   "cell_type": "code",
   "execution_count": null,
   "id": "e7a6ecf8-a104-47af-a101-95d4509a6c8d",
   "metadata": {},
   "outputs": [],
   "source": []
  },
  {
   "cell_type": "code",
   "execution_count": null,
   "id": "8e161362-e6fb-4b73-97a3-34dd88c308c6",
   "metadata": {},
   "outputs": [],
   "source": []
  },
  {
   "cell_type": "markdown",
   "id": "cd370182-5979-4b0e-8178-348316cdfd7a",
   "metadata": {
    "jp-MarkdownHeadingCollapsed": true,
    "tags": []
   },
   "source": [
    "# OLD "
   ]
  },
  {
   "cell_type": "markdown",
   "id": "eb051a6a-678d-4cd2-9454-6d7d0b946068",
   "metadata": {},
   "source": [
    "## datasets"
   ]
  },
  {
   "cell_type": "code",
   "execution_count": 3,
   "id": "1c5aa06c-c25e-4eaf-a9cc-f7ec4e1719d2",
   "metadata": {},
   "outputs": [],
   "source": [
    "# df = pd.read_csv(data_dir/'tiny-imagenet-200/val/val_annotations.txt', sep='\\t', header=None)\n",
    "# words_map = dict(pd.read_csv(data_dir/'tiny-imagenet-200/words.txt', sep='\\t', header=None).values)\n",
    "# all_words = sorted([x if isinstance(x, str) else '#' for x in words_map.values()])\n",
    "# df.insert(1, 'target', df.iloc[:, 1].map(words_map))\n",
    "# test_words = sorted(set(df.target.values))\n",
    "# test_words_map = dict(map(reversed, enumerate(test_words)))\n",
    "# df.insert(2, 'target_index', df.target.map(test_words_map))\n",
    "# df.rename(columns={0: 'image'}, inplace=True)"
   ]
  },
  {
   "cell_type": "code",
   "execution_count": 4,
   "id": "bf6748a8-328e-4684-8363-62e93e69fa72",
   "metadata": {},
   "outputs": [],
   "source": [
    "k = 10000\n",
    "val_data = np.load(data_dir/'Imagenet64_val_npz/val_data.npz')\n",
    "images = val_data['data'].reshape(-1, 3, 64, 64)\n",
    "labels = val_data['labels']\n",
    "subset = np.random.permutation(images.shape[0])[:k]\n",
    "images = images[subset]\n",
    "labels = labels[subset]\n",
    "df = pd.read_csv(data_dir/'map_clsloc.txt', sep=' ', header=None, names=['id', 'index', 'class'])"
   ]
  },
  {
   "cell_type": "code",
   "execution_count": 5,
   "id": "db967beb-5290-4ab8-bb31-67643f4deab5",
   "metadata": {},
   "outputs": [],
   "source": [
    "cifar_classes = tuple(cifar_test.classes)\n",
    "cifar_class_map = dict(map(reversed, cifar_test.class_to_idx.items()))"
   ]
  },
  {
   "cell_type": "code",
   "execution_count": 6,
   "id": "76d6a422-e41d-4251-950a-ee89b31cc7fa",
   "metadata": {},
   "outputs": [],
   "source": [
    "class DS(Dataset):\n",
    "    def __init__(self, images, labels, transforms=None, target_transforms=None):\n",
    "        assert len(images) == len(labels)\n",
    "        self.images = images\n",
    "        self.labels = labels\n",
    "        self.transforms = transforms\n",
    "        self.target_transforms = target_transforms\n",
    "        \n",
    "    def __getitem__(self, k):\n",
    "        x = self.images[k]\n",
    "        y = self.labels[k]\n",
    "        if self.transforms is not None:\n",
    "            x = self.transforms(x)\n",
    "        if self.target_transforms is not None:\n",
    "            y = self.target_transforms(y)\n",
    "        return x, y\n",
    "    \n",
    "    def __len__(self):\n",
    "        return len(self.images)\n",
    "    "
   ]
  },
  {
   "cell_type": "code",
   "execution_count": 7,
   "id": "f5da5de2-3002-4f22-be07-4a64c5af4408",
   "metadata": {},
   "outputs": [],
   "source": [
    "imagenet_test_dataset = DS(\n",
    "    images, labels, \n",
    "    transforms=transforms.Compose([\n",
    "        transforms.Lambda(lambda x: np.moveaxis(x, 0, -1)),\n",
    "        transforms.ToPILImage(),\n",
    "    ]),\n",
    "    target_transforms=transforms.Lambda(lambda y: y - 1),\n",
    ")"
   ]
  },
  {
   "cell_type": "code",
   "execution_count": 8,
   "id": "a7794067-13ae-4e1b-9185-18c0e2d12aeb",
   "metadata": {},
   "outputs": [],
   "source": [
    "cifar_test_dataset = DS(\n",
    "    cifar_test.data, cifar_test.targets,\n",
    "    transforms=transforms.Compose([\n",
    "        # transforms.ToTensor(),\n",
    "        # transforms.Normalize((0.5071, 0.4865, 0.4409), (0.2673, 0.2564, 0.2762)),\n",
    "        transforms.ToPILImage(),\n",
    "    ]), \n",
    ")\n",
    "\n",
    "loader_params = dict(batch_size=16, shuffle=False, pin_memory=True, num_workers=8)\n",
    "cifar_test_loader = DataLoader(cifar_test_dataset, **loader_params)"
   ]
  },
  {
   "cell_type": "code",
   "execution_count": 9,
   "id": "0bc6a87e-e337-4044-af9a-1260660b70c4",
   "metadata": {},
   "outputs": [],
   "source": []
  },
  {
   "cell_type": "code",
   "execution_count": 11,
   "id": "b86bbbdf-da46-4a7a-80e2-f06f29330f93",
   "metadata": {},
   "outputs": [
    {
     "data": {
      "text/plain": [
       "(8558, 8154)"
      ]
     },
     "execution_count": 11,
     "metadata": {},
     "output_type": "execute_result"
    }
   ],
   "source": [
    "len(wild_test_od), len(wild_test_id)"
   ]
  },
  {
   "cell_type": "markdown",
   "id": "2f272e69-4ec3-4fd2-afee-d3e71d55b072",
   "metadata": {},
   "source": [
    "## CLIP model"
   ]
  },
  {
   "cell_type": "code",
   "execution_count": 12,
   "id": "9d19667d-b06f-49e1-aa13-e0756f917e86",
   "metadata": {},
   "outputs": [],
   "source": [
    "tokenizer = open_clip.get_tokenizer('ViT-B-32-quickgelu')\n",
    "model, _, preprocess = open_clip.create_model_and_transforms('ViT-B-32-quickgelu', pretrained='laion400m_e32')"
   ]
  },
  {
   "cell_type": "code",
   "execution_count": 13,
   "id": "ec0645bc-b1ee-4100-995f-de6e2416a10f",
   "metadata": {},
   "outputs": [],
   "source": [
    "imagenet_classes = df['class'].values"
   ]
  },
  {
   "cell_type": "code",
   "execution_count": 14,
   "id": "80775ada-b480-4a5c-b5ce-e63e55657f1e",
   "metadata": {},
   "outputs": [
    {
     "name": "stderr",
     "output_type": "stream",
     "text": [
      "  3%|▉                              | 303/10000 [00:13<07:14, 22.32it/s]\n",
      "\n",
      "KeyboardInterrupt\n",
      "\n"
     ]
    }
   ],
   "source": [
    "imagenet_true_class = []\n",
    "imagenet_pred_class = []\n",
    "imagenet_pred_scores = []\n",
    "\n",
    "with torch.no_grad(), torch.cuda.amp.autocast():\n",
    "    prompt = tokenizer(['This is an image of a ' + c for c in imagenet_classes])\n",
    "    text_features = model.encode_text(prompt)\n",
    "    text_features /= text_features.norm(dim=-1, keepdim=True)\n",
    "\n",
    "    for i in tqdm(range(len(imagenet_test_dataset))):\n",
    "        x, y = imagenet_test_dataset[i]\n",
    "        image_features = model.encode_image(preprocess(x).unsqueeze(0))\n",
    "        image_features /= image_features.norm(dim=-1, keepdim=True)\n",
    "        scores = (image_features @ text_features.T).softmax(dim=-1)\n",
    "        \n",
    "        imagenet_true_class.append(y)\n",
    "        imagenet_pred_class.append(scores.argmax().item())\n",
    "        imagenet_pred_scores.append(scores.detach().cpu().numpy().squeeze())\n",
    "        \n",
    "imagenet_true_class = np.asarray(imagenet_true_class)\n",
    "imagenet_pred_class = np.asarray(imagenet_pred_class)\n",
    "imagenet_pred_scores = np.asarray(imagenet_pred_scores)\n",
    "\n",
    "imagenet_acc = (imagenet_true_class == imagenet_pred_class).sum() / imagenet_true_class.shape[0]\n",
    "print(f'imagenet100 accuracy: {imagenet_acc:.1%}')"
   ]
  },
  {
   "cell_type": "code",
   "execution_count": 11,
   "id": "3e9e39a3-d5e5-4006-be2e-d38621b975c5",
   "metadata": {},
   "outputs": [
    {
     "name": "stderr",
     "output_type": "stream",
     "text": [
      "100%|███████████████████████████████████████████████████████████████████████████████████████████████████████████████████████████████████████████| 10000/10000 [14:52<00:00, 11.20it/s]"
     ]
    },
    {
     "name": "stdout",
     "output_type": "stream",
     "text": [
      "CIFAR100 accuracy: 68.6%\n"
     ]
    },
    {
     "name": "stderr",
     "output_type": "stream",
     "text": [
      "\n"
     ]
    }
   ],
   "source": []
  },
  {
   "cell_type": "code",
   "execution_count": 12,
   "id": "5b654081-241d-4f8d-b6f0-743a1de837ae",
   "metadata": {},
   "outputs": [
    {
     "name": "stderr",
     "output_type": "stream",
     "text": [
      "100%|█████████████████████████████████████████████████████████████████████████████████████████████████████████████████████████████████████████████| 8154/8154 [15:07<00:00,  8.98it/s]\n",
      "100%|█████████████████████████████████████████████████████████████████████████████████████████████████████████| 8154/8154 [15:52<00:00,  8.56it/s]\n"
     ]
    },
    {
     "name": "stdout",
     "output_type": "stream",
     "text": [
      "WILD ID accuracy: 2.2%\n",
      "WILD OD accuracy: 2.2%\n"
     ]
    }
   ],
   "source": [
    "wild_id_true_class = []\n",
    "wild_id_pred_class = []\n",
    "wild_id_pred_scores = []\n",
    "\n",
    "with torch.no_grad(), torch.cuda.amp.autocast():\n",
    "    prompt = tokenizer(['This is an image of a ' + c for c in wild_classes])\n",
    "    text_features = model.encode_text(prompt)\n",
    "    text_features /= text_features.norm(dim=-1, keepdim=True)\n",
    "\n",
    "    for i in tqdm(range(len(wild_test_id))):\n",
    "        x, y, _ = wild_test_id[i]\n",
    "        image_features = model.encode_image(preprocess(x).unsqueeze(0))\n",
    "        image_features /= image_features.norm(dim=-1, keepdim=True)\n",
    "        scores = (image_features @ text_features.T).softmax(dim=-1)\n",
    "        \n",
    "        wild_id_true_class.append(y)\n",
    "        wild_id_pred_class.append(scores.argmax().item())\n",
    "        wild_id_pred_scores.append(scores.detach().cpu().numpy().squeeze())\n",
    "        \n",
    "wild_id_true_class = np.asarray(wild_id_true_class)\n",
    "wild_id_pred_class = np.asarray(wild_id_pred_class)\n",
    "wild_id_pred_scores = np.asarray(wild_id_pred_scores)\n",
    "\n",
    "wild_od_true_class = []\n",
    "wild_od_pred_class = []\n",
    "wild_od_pred_scores = []\n",
    "\n",
    "with torch.no_grad(), torch.cuda.amp.autocast():\n",
    "    prompt = tokenizer(['This is an image of a ' + c for c in wild_classes])\n",
    "    text_features = model.encode_text(prompt)\n",
    "    text_features /= text_features.norm(dim=-1, keepdim=True)\n",
    "\n",
    "    for i in tqdm(range(len(wild_test_id))):\n",
    "        x, y, _ = wild_test_id[i]\n",
    "        image_features = model.encode_image(preprocess(x).unsqueeze(0))\n",
    "        image_features /= image_features.norm(dim=-1, keepdim=True)\n",
    "        scores = (image_features @ text_features.T).softmax(dim=-1)\n",
    "        \n",
    "        wild_od_true_class.append(y)\n",
    "        wild_od_pred_class.append(scores.argmax().item())\n",
    "        wild_od_pred_scores.append(scores.detach().cpu().numpy().squeeze())\n",
    "        \n",
    "wild_od_true_class = np.asarray(wild_od_true_class)\n",
    "wild_od_pred_class = np.asarray(wild_od_pred_class)\n",
    "wild_od_pred_scores = np.asarray(wild_od_pred_scores)\n",
    "\n",
    "wild_id_acc = (wild_id_true_class == wild_id_pred_class).sum() / wild_id_true_class.shape[0]\n",
    "print(f'WILD ID accuracy: {wild_id_acc:.1%}')\n",
    "wild_od_acc = (wild_od_true_class == wild_od_pred_class).sum() / wild_od_true_class.shape[0]\n",
    "print(f'WILD OD accuracy: {wild_od_acc:.1%}')"
   ]
  },
  {
   "cell_type": "markdown",
   "id": "0085273e-9632-4137-bbb7-19978237668d",
   "metadata": {},
   "source": [
    "## Conformal prediction"
   ]
  },
  {
   "cell_type": "code",
   "execution_count": 17,
   "id": "403550b5-9c59-412c-8813-191084b33f37",
   "metadata": {},
   "outputs": [],
   "source": []
  },
  {
   "cell_type": "code",
   "execution_count": 147,
   "id": "072bad21-5119-4c6b-a7b5-8b512a47e801",
   "metadata": {},
   "outputs": [
    {
     "name": "stdout",
     "output_type": "stream",
     "text": [
      "IMAGENET coverage: 91.0%\n",
      "IMAGENET set size: 42.2\n",
      "CIFAR100 coverage: 91.0%\n",
      "CIFAR100 set size: 5.4\n",
      "WILD ID coverage: 92.1%\n",
      "WILD ID set size: 163.7\n",
      "WILD OD coverage: 92.1%\n",
      "WILD OD set size: 163.7\n"
     ]
    }
   ],
   "source": [
    "frac = 0.1\n",
    "alpha = 0.1\n",
    "\n",
    "imagenet_n = int(round(frac * len(imagenet_pred_scores)))\n",
    "imagenet_cal_scores = torch.tensor(imagenet_pred_scores[:imagenet_n])\n",
    "imagenet_cal_targets = torch.tensor(imagenet_true_class[:imagenet_n])\n",
    "imagenet_val_scores = torch.tensor(imagenet_pred_scores[imagenet_n:])\n",
    "imagenet_val_targets = torch.tensor(imagenet_true_class[imagenet_n:])\n",
    "\n",
    "imagenet_qhat = get_quantile(imagenet_cal_scores, imagenet_cal_targets, alpha=alpha)\n",
    "imagenet_psets = make_prediction_sets(imagenet_val_scores, imagenet_qhat)\n",
    "\n",
    "print(f'IMAGENET coverage: {get_coverage(imagenet_psets, imagenet_val_targets):.1%}')\n",
    "print(f'IMAGENET set size: {get_size(imagenet_psets):.1f}')\n",
    "\n",
    "wild_id_n = int(round(frac * len(wild_id_pred_scores)))\n",
    "wild_id_cal_scores = torch.tensor(wild_id_pred_scores[:wild_id_n])\n",
    "wild_id_cal_targets = torch.tensor(wild_id_true_class[:wild_id_n])\n",
    "wild_id_val_scores = torch.tensor(wild_id_pred_scores[wild_id_n:])\n",
    "wild_id_val_targets = torch.tensor(wild_id_true_class[wild_id_n:])\n",
    "\n",
    "wild_id_qhat = get_quantile(wild_id_cal_scores, wild_id_cal_targets, alpha=alpha)\n",
    "wild_id_psets = make_prediction_sets(wild_id_val_scores, wild_id_qhat)\n",
    "\n",
    "print(f'WILD ID coverage: {get_coverage(wild_id_psets, wild_id_val_targets):.1%}')\n",
    "print(f'WILD ID set size: {get_size(wild_id_psets):.1f}')\n",
    "\n",
    "wild_od_n = int(round(frac * len(wild_od_pred_scores)))\n",
    "wild_od_cal_scores = torch.tensor(wild_od_pred_scores[:wild_od_n])\n",
    "wild_od_cal_targets = torch.tensor(wild_od_true_class[:wild_od_n])\n",
    "wild_od_val_scores = torch.tensor(wild_od_pred_scores[wild_od_n:])\n",
    "wild_od_val_targets = torch.tensor(wild_od_true_class[wild_od_n:])\n",
    "\n",
    "wild_od_qhat = get_quantile(wild_od_cal_scores, wild_od_cal_targets, alpha=alpha)\n",
    "wild_od_psets = make_prediction_sets(wild_od_val_scores, wild_od_qhat)\n",
    "\n",
    "print(f'WILD OD coverage: {get_coverage(wild_od_psets, wild_od_val_targets):.1%}')\n",
    "print(f'WILD OD set size: {get_size(wild_od_psets):.1f}')"
   ]
  },
  {
   "cell_type": "code",
   "execution_count": 153,
   "id": "c34d9383-8725-4e62-a09e-dbe04a0fbeac",
   "metadata": {},
   "outputs": [],
   "source": [
    "sizes = [\n",
    "    cifar_psets.sum(1),\n",
    "    imagenet_psets.sum(1),\n",
    "    wild_id_psets.sum(1),\n",
    "]"
   ]
  },
  {
   "cell_type": "code",
   "execution_count": 185,
   "id": "f80386c1-ca5f-4489-8bfb-893027e09488",
   "metadata": {},
   "outputs": [
    {
     "data": {
      "text/plain": [
       "([<matplotlib.axis.YTick at 0x7f18e26e3c10>,\n",
       "  <matplotlib.axis.YTick at 0x7f18e26e35b0>,\n",
       "  <matplotlib.axis.YTick at 0x7f18e26e10c0>],\n",
       " [Text(0, 1, 'CIFAR100'),\n",
       "  Text(0, 2, 'Mini-ImageNet\\n(1000 classes)'),\n",
       "  Text(0, 3, 'WILDS\\niWildCam\\n(183 classes)')])"
      ]
     },
     "execution_count": 185,
     "metadata": {},
     "output_type": "execute_result"
    },
    {
     "data": {
      "image/png": "[encoded data removed]",
      "text/plain": [
       "<Figure size 1000x600 with 1 Axes>"
      ]
     },
     "metadata": {},
     "output_type": "display_data"
    }
   ],
   "source": [
    "fontsize=24\n",
    "plt.figure(figsize=(10, 6))\n",
    "plt.violinplot(sizes, vert=False, widths=1.0)\n",
    "plt.xlabel('Prediction set size', fontsize=fontsize)\n",
    "plt.xticks(fontsize=fontsize-4)\n",
    "plt.yticks(ticks=range(1, 4), labels=[f'CIFAR100', f'Mini-ImageNet\\n(1000 classes)', f'WILDS\\niWildCam\\n({len(wild_classes)} classes)'], fontsize=fontsize-6)"
   ]
  },
  {
   "cell_type": "code",
   "execution_count": null,
   "id": "3ecddbab-8a80-4f82-9f30-fcc37e8845b7",
   "metadata": {},
   "outputs": [],
   "source": [
    "fig, ax = plt.subplots(nrows=2, ncols=5, figsize=(10, 6))\n",
    "\n",
    "axs[1, 1].violinplot(data, pos, points=100, vert=False, widths=0.9,\n",
    "                     showmeans=True, showextrema=True, showmedians=True,\n",
    "                     bw_method='silverman')\n",
    "axs[1, 1].set_title('Custom violinplot 7', fontsize=fs)"
   ]
  },
  {
   "cell_type": "code",
   "execution_count": null,
   "id": "484ff946-3413-495a-beb6-ff65985186e9",
   "metadata": {},
   "outputs": [],
   "source": []
  },
  {
   "cell_type": "code",
   "execution_count": null,
   "id": "f68d122f-a079-41b7-83b4-7ad580450f65",
   "metadata": {},
   "outputs": [],
   "source": []
  },
  {
   "cell_type": "code",
   "execution_count": null,
   "id": "8465a6bb-6888-41c8-af1d-8cb234f3d748",
   "metadata": {},
   "outputs": [],
   "source": []
  }
 ],
 "metadata": {
  "kernelspec": {
   "display_name": "Python 3 (ipykernel)",
   "language": "python",
   "name": "python3"
  },
  "language_info": {
   "codemirror_mode": {
    "name": "ipython",
    "version": 3
   },
   "file_extension": ".py",
   "mimetype": "text/x-python",
   "name": "python",
   "nbconvert_exporter": "python",
   "pygments_lexer": "ipython3",
   "version": "3.9.15"
  }
 },
 "nbformat": 4,
 "nbformat_minor": 5
}
