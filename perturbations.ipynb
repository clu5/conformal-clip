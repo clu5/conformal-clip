{
 "cells": [
  {
   "cell_type": "markdown",
   "id": "4e0c95a7-783a-4bee-83bd-7d3ccb1dc11d",
   "metadata": {},
   "source": [
    "# CLIP with conformal prediction\n",
    "\n",
    "Comparing prediciton set size across different datasets"
   ]
  },
  {
   "cell_type": "code",
   "execution_count": 1,
   "id": "920f7d48-46be-4568-b372-5da6ba8b09db",
   "metadata": {},
   "outputs": [
    {
     "name": "stderr",
     "output_type": "stream",
     "text": [
      "2023-04-06 09:49:47.632398: I tensorflow/core/platform/cpu_feature_guard.cc:193] This TensorFlow binary is optimized with oneAPI Deep Neural Network Library (oneDNN) to use the following CPU instructions in performance-critical operations:  AVX2 AVX512F AVX512_VNNI FMA\n",
      "To enable them in other operations, rebuild TensorFlow with the appropriate compiler flags.\n",
      "2023-04-06 09:49:47.770904: I tensorflow/core/util/port.cc:104] oneDNN custom operations are on. You may see slightly different numerical results due to floating-point round-off errors from different computation orders. To turn them off, set the environment variable `TF_ENABLE_ONEDNN_OPTS=0`.\n",
      "2023-04-06 09:49:49.152836: W tensorflow/compiler/xla/stream_executor/platform/default/dso_loader.cc:64] Could not load dynamic library 'libnvinfer.so.7'; dlerror: libnvinfer.so.7: cannot open shared object file: No such file or directory\n",
      "2023-04-06 09:49:49.152920: W tensorflow/compiler/xla/stream_executor/platform/default/dso_loader.cc:64] Could not load dynamic library 'libnvinfer_plugin.so.7'; dlerror: libnvinfer_plugin.so.7: cannot open shared object file: No such file or directory\n",
      "2023-04-06 09:49:49.152926: W tensorflow/compiler/tf2tensorrt/utils/py_utils.cc:38] TF-TRT Warning: Cannot dlopen some TensorRT libraries. If you would like to use Nvidia GPU with TensorRT, please make sure the missing libraries mentioned above are installed properly.\n"
     ]
    }
   ],
   "source": [
    "# import os; os.environ['CUDA_VISIBLE_DEVICES'] = '1'\n",
    "from pathlib import Path\n",
    "from functools import partial\n",
    "import pandas as pd\n",
    "import matplotlib.pyplot as plt; plt.style.use('bmh')\n",
    "import numpy as np\n",
    "import torch\n",
    "import torch.nn as nn\n",
    "import torch.optim as optim\n",
    "from torchvision import datasets, transforms\n",
    "from torch.utils.data import Dataset, DataLoader, BatchSampler\n",
    "assert torch.cuda.is_available()\n",
    "import clip\n",
    "import open_clip\n",
    "from tqdm import tqdm\n",
    "import wilds\n",
    "from conformal import (\n",
    "    get_quantile, make_prediction_sets, get_coverage, get_size, get_coverage_by_class\n",
    ")\n",
    "from dataset import ClipDataset, BalancedBatchSampler"
   ]
  },
  {
   "cell_type": "markdown",
   "id": "91167bfd-2c8f-4c61-851e-851d1b343c4e",
   "metadata": {},
   "source": [
    "### CIFAR100"
   ]
  },
  {
   "cell_type": "code",
   "execution_count": 2,
   "id": "ebc9b7e4-438d-4c95-978a-56f79127a95e",
   "metadata": {},
   "outputs": [],
   "source": [
    "data_dir = Path('../data')\n",
    "device = \"cuda\" if torch.cuda.is_available() else \"cpu\""
   ]
  },
  {
   "cell_type": "code",
   "execution_count": 3,
   "id": "278c595e-c4d7-497c-9056-a178ff65fd86",
   "metadata": {},
   "outputs": [],
   "source": [
    "k = 10000\n",
    "model, preprocess = clip.load(\"ViT-B/32\", device=device, jit=False)\n",
    "\n",
    "    \n",
    "_transforms = transforms.Compose([\n",
    "    transforms.ToPILImage(),\n",
    "    preprocess,\n",
    "])\n",
    "\n",
    "cifar_train = datasets.CIFAR100(root=data_dir, train=True)\n",
    "cifar_test = datasets.CIFAR100(root=data_dir, train=False)\n",
    "\n",
    "cifar_classes = tuple(cifar_test.classes)\n",
    "cifar_class_map = dict(map(reversed, cifar_test.class_to_idx.items()))\n",
    "cifar_num_classes = len(cifar_classes)\n",
    "\n",
    "cifar_train_ds = ClipDataset(cifar_train.data, cifar_train.targets, class_map=cifar_class_map, transforms=_transforms, k=k)\n",
    "cifar_test_ds = ClipDataset(cifar_test.data, cifar_test.targets, class_map=cifar_class_map, transforms=_transforms, k=k)\n"
   ]
  },
  {
   "cell_type": "code",
   "execution_count": 4,
   "id": "6fe5162d-9765-4cce-8cc5-a9d37a5e9e66",
   "metadata": {},
   "outputs": [],
   "source": [
    "from nltk.corpus import wordnet"
   ]
  },
  {
   "cell_type": "code",
   "execution_count": 5,
   "id": "ce712500-7c23-48c5-8838-598a2592b3b0",
   "metadata": {},
   "outputs": [],
   "source": [
    "cifar_definitions = {}\n",
    "for _class in cifar_classes:\n",
    "    orig_class = _class\n",
    "    if _class == 'aquarium_fish':\n",
    "        _class = 'aquarium'\n",
    "    elif _class == 'maple_tree':\n",
    "        _class = 'maple'\n",
    "    syns = wordnet.synsets(_class)\n",
    "    if len(syns) == 0:\n",
    "        print(_class.center(40, '-'))\n",
    "        continue\n",
    "    definition = syns[0].definition()\n",
    "    # print(syns[0].name(), len(syns))\n",
    "    cifar_definitions[orig_class] = definition"
   ]
  },
  {
   "cell_type": "code",
   "execution_count": 6,
   "id": "98b873fe-5b15-4e55-8cea-1a967d05eab9",
   "metadata": {},
   "outputs": [],
   "source": [
    "superclasses = {\n",
    "    'beaver': 'aquatic_mammal', \n",
    "    'dolphin': 'aquatic_mammal', \n",
    "    'otter': 'aquatic_mammal', \n",
    "    'seal': 'aquatic_mammal', \n",
    "    'whale': 'aquatic_mammal',\n",
    "    \n",
    "    'aquarium_fish': 'fish', \n",
    "    'flatfish': 'fish', \n",
    "    'ray':      'fish', \n",
    "    'shark':    'fish', \n",
    "    'trout':    'fish', \n",
    "\n",
    "    'orchid': 'flower', \n",
    "    'poppy': 'flower', \n",
    "    'rose': 'flower', \n",
    "    'sunflower': 'flower', \n",
    "    'tulip':'flower', \n",
    "    \n",
    "    'bottle': 'food_container', \n",
    "    'bowl': 'food_container', \n",
    "    'can': 'food_container', \n",
    "    'cup': 'food_container', \n",
    "    'plate': 'food_container',\n",
    "    \n",
    "    'apple': 'fruit_and_vegetable',\n",
    "    'mushroom': 'fruit_and_vegetable',\n",
    "    'orange': 'fruit_and_vegetable',\n",
    "    'pear': 'fruit_and_vegetable',\n",
    "    'sweet_pepper': 'fruit_and_vegetable',\n",
    "    \n",
    "    'clock': 'household_electrical_device', \n",
    "    'keyboard': 'household_electrical_device', \n",
    "    'lamp': 'household_electrical_device', \n",
    "    'telephone': 'household_electrical_device', \n",
    "    'television': 'household_electrical_device',\n",
    "    \n",
    "    'bed': 'household_furniture' , \n",
    "    'chair': 'household_furniture' , \n",
    "    'couch': 'household_furniture' , \n",
    "    'table': 'household_furniture' , \n",
    "    'wardrobe':'household_furniture',\n",
    "    \n",
    "    'bee': 'insect', \n",
    "    'beetle': 'insect', \n",
    "    'butterfly': 'insect', \n",
    "    'caterpillar': 'insect', \n",
    "    'cockroach': 'insect',\n",
    "    \n",
    "    'bear': 'large_carnivore', \n",
    "    'leopard': 'large_carnivore', \n",
    "    'lion': 'large_carnivore', \n",
    "    'tiger': 'large_carnivore', \n",
    "    'wolf': 'large_carnivore',\n",
    "    \n",
    "    'bridge': 'large_man-made_outdoor_thing', \n",
    "    'castle': 'large_man-made_outdoor_thing', \n",
    "    'house': 'large_man-made_outdoor_thing', \n",
    "    'road': 'large_man-made_outdoor_thing', \n",
    "    'skyscraper': 'large_man-made_outdoor_thing',\n",
    "\n",
    "    'cloud': 'large_natural_outdoor_scene' , \n",
    "    'forest': 'large_natural_outdoor_scene' , \n",
    "    'mountain': 'large_natural_outdoor_scene' , \n",
    "    'plain': 'large_natural_outdoor_scene' , \n",
    "    'sea': 'large_natural_outdoor_scene' ,\n",
    "    \n",
    "    'camel': 'large_omnivores_and_herbivore', \n",
    "    'cattle': 'large_omnivores_and_herbivore', \n",
    "    'chimpanzee': 'large_omnivores_and_herbivore', \n",
    "    'elephant': 'large_omnivores_and_herbivore', \n",
    "    'kangaroo': 'large_omnivores_and_herbivore',\n",
    "\n",
    "    'fox': 'medium-sized_mammal', \n",
    "    'porcupine': 'medium-sized_mammal', \n",
    "    'possum': 'medium-sized_mammal', \n",
    "    'raccoon': 'medium-sized_mammal', \n",
    "    'skunk': 'medium-sized_mammal',\n",
    "\n",
    "    'crab': 'non-insect_invertebrate', \n",
    "    'lobster': 'non-insect_invertebrate', \n",
    "    'snail': 'non-insect_invertebrate', \n",
    "    'spider': 'non-insect_invertebrate', \n",
    "    'worm': 'non-insect_invertebrate',\n",
    "    \n",
    "    'baby': 'people', \n",
    "    'boy': 'people', \n",
    "    'girl': 'people', \n",
    "    'man': 'people', \n",
    "    'woman': 'people',\n",
    "\n",
    "    'crocodile': 'reptile', \n",
    "    'dinosaur': 'reptile', \n",
    "    'lizard': 'reptile', \n",
    "    'snake': 'reptile', \n",
    "    'turtle': 'reptile',\n",
    "    \n",
    "    'hamster': 'small_mammal', \n",
    "    'mouse': 'small_mammal', \n",
    "    'rabbit': 'small_mammal', \n",
    "    'shrew': 'small_mammal', \n",
    "    'squirrel': 'small_mammal',\n",
    "    \n",
    "    'maple_tree': 'tree', \n",
    "    'oak_tree': 'tree', \n",
    "    'palm_tree': 'tree', \n",
    "    'pine_tree': 'tree', \n",
    "    'willow_tree': 'tree',\n",
    "\n",
    "    'bicycle': 'vehicle', \n",
    "    'bus': 'vehicle', \n",
    "    'motorcycle': 'vehicle', \n",
    "    'pickup_truck': 'vehicle', \n",
    "    'train': 'vehicle', \n",
    "    'lawn_mower':  'vehicle', \n",
    "    'rocket': 'vehicle', \n",
    "    'streetcar': 'vehicle', \n",
    "    'tank': 'vehicle', \n",
    "    'tractor': 'vehicle', \n",
    "}\n",
    "\n"
   ]
  },
  {
   "cell_type": "code",
   "execution_count": 7,
   "id": "9c73f076-2cfd-4eaa-8b48-7dec2fcab8ec",
   "metadata": {},
   "outputs": [],
   "source": [
    "for _class in sorted(cifar_definitions.keys()):\n",
    "    assert superclasses[_class], _class"
   ]
  },
  {
   "cell_type": "code",
   "execution_count": 8,
   "id": "21157c6a-1947-4203-b0b3-64d315db091e",
   "metadata": {},
   "outputs": [],
   "source": [
    "def get_features(model, dataset, device):\n",
    "    all_features = []\n",
    "    all_labels = []\n",
    "    \n",
    "    with torch.no_grad():\n",
    "        for images, labels, text in tqdm(DataLoader(dataset, batch_size=100)):\n",
    "            features = model.encode_image(images.to(device))\n",
    "\n",
    "            all_features.append(features)\n",
    "            all_labels.append(labels)\n",
    "\n",
    "    return torch.cat(all_features).cpu().numpy(), torch.cat(all_labels).cpu().numpy()"
   ]
  },
  {
   "cell_type": "code",
   "execution_count": 9,
   "id": "b1077bc7-f309-4bb2-adb9-091667b2be92",
   "metadata": {},
   "outputs": [
    {
     "name": "stderr",
     "output_type": "stream",
     "text": [
      "100%|██████████| 100/100 [00:21<00:00,  4.57it/s]\n",
      "100%|██████████| 100/100 [00:15<00:00,  6.53it/s]\n"
     ]
    }
   ],
   "source": [
    "cifar_train_features, cifar_train_labels = get_features(model, cifar_train_ds, device)\n",
    "cifar_test_features, cifar_test_labels = get_features(model, cifar_test_ds, device)"
   ]
  },
  {
   "cell_type": "code",
   "execution_count": 32,
   "id": "854d2aa9-08fa-48c1-85d0-eab333b9968d",
   "metadata": {},
   "outputs": [
    {
     "data": {
      "text/plain": [
       "[' beaver aquatic mammal',\n",
       " ' dolphin aquatic mammal',\n",
       " ' otter aquatic mammal',\n",
       " ' seal aquatic mammal',\n",
       " ' whale aquatic mammal',\n",
       " ' aquarium fish fish',\n",
       " ' flatfish fish',\n",
       " ' ray fish',\n",
       " ' shark fish',\n",
       " ' trout fish',\n",
       " ' orchid flower',\n",
       " ' poppy flower',\n",
       " ' rose flower',\n",
       " ' sunflower flower',\n",
       " ' tulip flower',\n",
       " ' bottle food container',\n",
       " ' bowl food container',\n",
       " ' can food container',\n",
       " ' cup food container',\n",
       " ' plate food container',\n",
       " ' apple fruit and vegetable',\n",
       " ' mushroom fruit and vegetable',\n",
       " ' orange fruit and vegetable',\n",
       " ' pear fruit and vegetable',\n",
       " ' sweet pepper fruit and vegetable',\n",
       " ' clock household electrical device',\n",
       " ' keyboard household electrical device',\n",
       " ' lamp household electrical device',\n",
       " ' telephone household electrical device',\n",
       " ' television household electrical device',\n",
       " ' bed household furniture',\n",
       " ' chair household furniture',\n",
       " ' couch household furniture',\n",
       " ' table household furniture',\n",
       " ' wardrobe household furniture',\n",
       " ' bee insect',\n",
       " ' beetle insect',\n",
       " ' butterfly insect',\n",
       " ' caterpillar insect',\n",
       " ' cockroach insect',\n",
       " ' bear large carnivore',\n",
       " ' leopard large carnivore',\n",
       " ' lion large carnivore',\n",
       " ' tiger large carnivore',\n",
       " ' wolf large carnivore',\n",
       " ' bridge large man-made outdoor thing',\n",
       " ' castle large man-made outdoor thing',\n",
       " ' house large man-made outdoor thing',\n",
       " ' road large man-made outdoor thing',\n",
       " ' skyscraper large man-made outdoor thing',\n",
       " ' cloud large natural outdoor scene',\n",
       " ' forest large natural outdoor scene',\n",
       " ' mountain large natural outdoor scene',\n",
       " ' plain large natural outdoor scene',\n",
       " ' sea large natural outdoor scene',\n",
       " ' camel large omnivores and herbivore',\n",
       " ' cattle large omnivores and herbivore',\n",
       " ' chimpanzee large omnivores and herbivore',\n",
       " ' elephant large omnivores and herbivore',\n",
       " ' kangaroo large omnivores and herbivore',\n",
       " ' fox medium-sized mammal',\n",
       " ' porcupine medium-sized mammal',\n",
       " ' possum medium-sized mammal',\n",
       " ' raccoon medium-sized mammal',\n",
       " ' skunk medium-sized mammal',\n",
       " ' crab non-insect invertebrate',\n",
       " ' lobster non-insect invertebrate',\n",
       " ' snail non-insect invertebrate',\n",
       " ' spider non-insect invertebrate',\n",
       " ' worm non-insect invertebrate',\n",
       " ' baby people',\n",
       " ' boy people',\n",
       " ' girl people',\n",
       " ' man people',\n",
       " ' woman people',\n",
       " ' crocodile reptile',\n",
       " ' dinosaur reptile',\n",
       " ' lizard reptile',\n",
       " ' snake reptile',\n",
       " ' turtle reptile',\n",
       " ' hamster small mammal',\n",
       " ' mouse small mammal',\n",
       " ' rabbit small mammal',\n",
       " ' shrew small mammal',\n",
       " ' squirrel small mammal',\n",
       " ' maple tree tree',\n",
       " ' oak tree tree',\n",
       " ' palm tree tree',\n",
       " ' pine tree tree',\n",
       " ' willow tree tree',\n",
       " ' bicycle vehicle',\n",
       " ' bus vehicle',\n",
       " ' motorcycle vehicle',\n",
       " ' pickup truck vehicle',\n",
       " ' train vehicle',\n",
       " ' lawn mower vehicle',\n",
       " ' rocket vehicle',\n",
       " ' streetcar vehicle',\n",
       " ' tank vehicle',\n",
       " ' tractor vehicle']"
      ]
     },
     "execution_count": 32,
     "metadata": {},
     "output_type": "execute_result"
    }
   ],
   "source": [
    "classes_2"
   ]
  },
  {
   "cell_type": "code",
   "execution_count": 42,
   "id": "7c344fb1-2ae5-4fc9-992e-47b1337b6a58",
   "metadata": {},
   "outputs": [],
   "source": [
    "template = 'this is an image of a '\n",
    "classes_1 = [f'{template} {k}'.replace('_', ' ') for k in cifar_classes]\n",
    "classes_2 = [f'{template} {k} a type of {superclasses[k]}'.replace('_', ' ') for k in cifar_classes]\n",
    "classes_3 = [f'{template} {k} definition {cifar_definitions[k]}' for k in cifar_classes]"
   ]
  },
  {
   "cell_type": "code",
   "execution_count": 43,
   "id": "d125a54d-fef9-4d86-bf91-3d14e08b4ef8",
   "metadata": {},
   "outputs": [
    {
     "name": "stderr",
     "output_type": "stream",
     "text": [
      "100%|██████████| 10000/10000 [01:46<00:00, 94.02it/s]\n"
     ]
    }
   ],
   "source": [
    "all_targets = []\n",
    "all_scores_1 = []\n",
    "all_scores_2 = []\n",
    "all_scores_3 = []\n",
    "\n",
    "with torch.no_grad(), torch.cuda.amp.autocast():\n",
    "\n",
    "    text_1_features = model.encode_text(clip.tokenize(classes_1).cuda())\n",
    "    text_2_features = model.encode_text(clip.tokenize(classes_2).cuda())\n",
    "    text_3_features = model.encode_text(clip.tokenize(classes_3).cuda())\n",
    "    \n",
    "    text_1_features /= text_1_features.norm(dim=-1, keepdim=True)\n",
    "    text_2_features /= text_2_features.norm(dim=-1, keepdim=True)\n",
    "    text_3_features /= text_3_features.norm(dim=-1, keepdim=True)\n",
    "    \n",
    "    for i in tqdm(range(len(cifar_test))):\n",
    "        x, y = cifar_train[i]\n",
    "\n",
    "        image_features = model.encode_image(preprocess(x).unsqueeze(0).cuda())\n",
    "\n",
    "        scores_1 = (image_features @ text_1_features.T).softmax(-1)\n",
    "        scores_2 = (image_features @ text_2_features.T).softmax(-1)\n",
    "        scores_3 = (image_features @ text_3_features.T).softmax(-1)\n",
    "\n",
    "        all_targets.append(y)\n",
    "        all_scores_1.append(scores_1.detach().cpu())\n",
    "        all_scores_2.append(scores_2.detach().cpu())\n",
    "        all_scores_3.append(scores_3.detach().cpu())\n"
   ]
  },
  {
   "cell_type": "code",
   "execution_count": 51,
   "id": "2fb06da7-fbd7-4ac5-9a94-98a0fa5ca2fc",
   "metadata": {},
   "outputs": [
    {
     "name": "stdout",
     "output_type": "stream",
     "text": [
      "tensor(0.6320)\n",
      "tensor(0.6245)\n",
      "tensor(0.5528)\n"
     ]
    }
   ],
   "source": [
    "targets = torch.tensor(all_targets)\n",
    "scores_1 = torch.cat(all_scores_1)\n",
    "scores_2 = torch.cat(all_scores_2)\n",
    "scores_3 = torch.cat(all_scores_3)\n",
    "print((targets == scores_1.argmax(1)).sum() / len(scores_1))\n",
    "print((targets == scores_2.argmax(1)).sum() / len(scores_2))\n",
    "print((targets == scores_3.argmax(1)).sum() / len(scores_3))"
   ]
  },
  {
   "cell_type": "code",
   "execution_count": 44,
   "id": "bf318988-cd03-4307-beef-ad672aee7049",
   "metadata": {},
   "outputs": [],
   "source": [
    "def conformal_prediction(scores, targets, cal_frac=0.1, alpha=0.1):\n",
    "    n = scores.shape[0]\n",
    "    acc = (scores.argmax(1) == targets).sum() / n\n",
    "    \n",
    "    print(f'ACCURACY: {acc:.1%}')\n",
    "\n",
    "    n = int(round(cal_frac * n))\n",
    "    cal_scores = torch.tensor(scores[:n], dtype=torch.float)\n",
    "    cal_targets = torch.tensor(targets[:n], dtype=torch.long)\n",
    "    val_scores = torch.tensor(scores[n:], dtype=torch.float)\n",
    "    val_targets = torch.tensor(targets[n:], dtype=torch.long)\n",
    "\n",
    "    qhat = get_quantile(cal_scores, cal_targets, alpha=alpha)\n",
    "    psets = make_prediction_sets(val_scores, qhat)\n",
    "\n",
    "    print(f'COVERAGE: {get_coverage(psets, val_targets):.1%}')\n",
    "    print(f'SET SIZE: {get_size(psets):.1f}')\n",
    "    return psets, val_targets"
   ]
  },
  {
   "cell_type": "code",
   "execution_count": 53,
   "id": "7da6bbcb-4fc4-4a77-bca5-5532bc0a66c2",
   "metadata": {},
   "outputs": [
    {
     "name": "stdout",
     "output_type": "stream",
     "text": [
      "ACCURACY: 63.2%\n",
      "COVERAGE: 89.6%\n",
      "SET SIZE: 7.6\n",
      "ACCURACY: 62.4%\n"
     ]
    },
    {
     "name": "stderr",
     "output_type": "stream",
     "text": [
      "/state/partition1/slurm_tmp/22309852.0.0/ipykernel_34497/2928160459.py:8: UserWarning: To copy construct from a tensor, it is recommended to use sourceTensor.clone().detach() or sourceTensor.clone().detach().requires_grad_(True), rather than torch.tensor(sourceTensor).\n",
      "  cal_scores = torch.tensor(scores[:n], dtype=torch.float)\n",
      "/state/partition1/slurm_tmp/22309852.0.0/ipykernel_34497/2928160459.py:9: UserWarning: To copy construct from a tensor, it is recommended to use sourceTensor.clone().detach() or sourceTensor.clone().detach().requires_grad_(True), rather than torch.tensor(sourceTensor).\n",
      "  cal_targets = torch.tensor(targets[:n], dtype=torch.long)\n",
      "/state/partition1/slurm_tmp/22309852.0.0/ipykernel_34497/2928160459.py:10: UserWarning: To copy construct from a tensor, it is recommended to use sourceTensor.clone().detach() or sourceTensor.clone().detach().requires_grad_(True), rather than torch.tensor(sourceTensor).\n",
      "  val_scores = torch.tensor(scores[n:], dtype=torch.float)\n",
      "/state/partition1/slurm_tmp/22309852.0.0/ipykernel_34497/2928160459.py:11: UserWarning: To copy construct from a tensor, it is recommended to use sourceTensor.clone().detach() or sourceTensor.clone().detach().requires_grad_(True), rather than torch.tensor(sourceTensor).\n",
      "  val_targets = torch.tensor(targets[n:], dtype=torch.long)\n"
     ]
    },
    {
     "name": "stdout",
     "output_type": "stream",
     "text": [
      "COVERAGE: 88.5%\n",
      "SET SIZE: 7.3\n",
      "ACCURACY: 55.3%\n",
      "COVERAGE: 90.3%\n",
      "SET SIZE: 12.7\n"
     ]
    }
   ],
   "source": [
    "psets_1, _ = conformal_prediction(scores_1.cpu(), targets.cpu())\n",
    "psets_2, _ = conformal_prediction(scores_2.cpu(), targets.cpu())\n",
    "psets_3, _ = conformal_prediction(scores_3.cpu(), targets.cpu())"
   ]
  },
  {
   "cell_type": "code",
   "execution_count": 54,
   "id": "238464cd-7c5e-4bd3-8106-9a12dbcff113",
   "metadata": {},
   "outputs": [
    {
     "data": {
      "text/plain": [
       "tensor([6, 7, 3,  ..., 8, 9, 5])"
      ]
     },
     "execution_count": 54,
     "metadata": {},
     "output_type": "execute_result"
    }
   ],
   "source": [
    "psets_1.sum(1)"
   ]
  },
  {
   "cell_type": "code",
   "execution_count": 59,
   "id": "4ddddb5e-2b9c-42b0-ba4c-1f35dc0f1d46",
   "metadata": {},
   "outputs": [
    {
     "data": {
      "text/plain": [
       "([<matplotlib.axis.YTick at 0x7fdbc41ef880>,\n",
       "  <matplotlib.axis.YTick at 0x7fdbc41ef220>,\n",
       "  <matplotlib.axis.YTick at 0x7fdbc41bfca0>],\n",
       " [Text(0, 1, 'original'), Text(0, 2, 'superclass'), Text(0, 3, 'definition')])"
      ]
     },
     "execution_count": 59,
     "metadata": {},
     "output_type": "execute_result"
    },
    {
     "data": {
      "image/png": "[encoded data removed]",
      "text/plain": [
       "<Figure size 1000x600 with 1 Axes>"
      ]
     },
     "metadata": {},
     "output_type": "display_data"
    }
   ],
   "source": [
    "sizes = [\n",
    "    psets_1.sum(1),\n",
    "    psets_2.sum(1),\n",
    "    psets_3.sum(1),\n",
    "]\n",
    "\n",
    "fontsize=24\n",
    "plt.figure(figsize=(10, 6))\n",
    "plt.violinplot(sizes, vert=False, widths=0.8, showmedians=True)\n",
    "plt.xlabel('Prediction set size', fontsize=fontsize)\n",
    "plt.xticks(fontsize=fontsize-4)\n",
    "plt.yticks(ticks=range(1, 4), labels=[f'original', f'superclass', f'definition'], fontsize=fontsize-6)"
   ]
  },
  {
   "cell_type": "code",
   "execution_count": 21,
   "id": "fef3efb1-f6c0-4f0c-b6a0-7ebfc18e5b69",
   "metadata": {},
   "outputs": [
    {
     "data": {
      "text/plain": [
       "tensor([19, 63,  0,  ...,  3, 26, 23])"
      ]
     },
     "execution_count": 21,
     "metadata": {},
     "output_type": "execute_result"
    }
   ],
   "source": []
  },
  {
   "cell_type": "code",
   "execution_count": null,
   "id": "9b458a45-4442-47f4-beec-dfa83f920c56",
   "metadata": {},
   "outputs": [],
   "source": [
    "\n",
    "with torch.no_grad(), torch.cuda.amp.autocast():\n",
    "    prompt = tokenizer(['This is an image of a ' + c for c in imagenet_classes])\n",
    "    text_features = model.encode_text(prompt)\n",
    "    text_features /= text_features.norm(dim=-1, keepdim=True)\n",
    "\n",
    "    for i in tqdm(range(len(imagenet_test_dataset))):\n",
    "        x, y = imagenet_test_dataset[i]\n",
    "        image_features = model.encode_image(preprocess(x).unsqueeze(0))\n",
    "        image_features /= image_features.norm(dim=-1, keepdim=True)\n",
    "        scores = (image_features @ text_features.T).softmax(dim=-1)\n",
    "        \n",
    "        imagenet_true_class.append(y)\n",
    "        imagenet_pred_class.append(scores.argmax().item())\n",
    "        imagenet_pred_scores.append(scores.detach().cpu().numpy().squeeze())\n",
    "        \n",
    "imagenet_true_class = np.asarray(imagenet_true_class)\n",
    "imagenet_pred_class = np.asarray(imagenet_pred_class)\n",
    "imagenet_pred_scores = np.asarray(imagenet_pred_scores)\n",
    "\n",
    "imagenet_acc = (imagenet_true_class == imagenet_pred_class).sum() / imagenet_true_class.shape[0]\n",
    "print(f'imagenet100 accuracy: {imagenet_acc:.1%}')"
   ]
  },
  {
   "cell_type": "code",
   "execution_count": null,
   "id": "f74a338a-f78c-4f7a-b785-e25c8a4d353e",
   "metadata": {},
   "outputs": [],
   "source": [
    "    prompt = tokenizer(['This is an image of a ' + c for c in imagenet_classes])\n",
    "    text_features = model.encode_text(prompt)\n",
    "    text_features /= text_features.norm(dim=-1, keepdim=True)\n"
   ]
  },
  {
   "cell_type": "code",
   "execution_count": null,
   "id": "533085dc-8e81-4c8c-92fb-57361b4948f8",
   "metadata": {},
   "outputs": [],
   "source": []
  },
  {
   "cell_type": "code",
   "execution_count": null,
   "id": "74dadb56-5082-42a6-a410-83c2939fb739",
   "metadata": {},
   "outputs": [],
   "source": [
    "cifar_psets_no_finetune, cifar_targets_no_finetune = conformal_prediction(model, cifar_test_ds, classes=cifar_classes)\n"
   ]
  },
  {
   "cell_type": "code",
   "execution_count": null,
   "id": "8d47b299-cae3-42a6-beae-01cc4e32449c",
   "metadata": {},
   "outputs": [],
   "source": []
  },
  {
   "cell_type": "code",
   "execution_count": null,
   "id": "5f918257-9bfd-429a-be5a-639e6d8bfd8a",
   "metadata": {},
   "outputs": [],
   "source": []
  },
  {
   "cell_type": "code",
   "execution_count": null,
   "id": "3aa57213-c6cd-45cc-8f48-640663a0c53e",
   "metadata": {},
   "outputs": [],
   "source": []
  },
  {
   "cell_type": "code",
   "execution_count": 11,
   "id": "6f52f2a1-f0d2-420f-bf9e-695d13c52218",
   "metadata": {},
   "outputs": [
    {
     "name": "stderr",
     "output_type": "stream",
     "text": [
      "[Parallel(n_jobs=1)]: Using backend SequentialBackend with 1 concurrent workers.\n",
      " This problem is unconstrained.\n"
     ]
    },
    {
     "name": "stdout",
     "output_type": "stream",
     "text": [
      "RUNNING THE L-BFGS-B CODE\n",
      "\n",
      "           * * *\n",
      "\n",
      "Machine precision = 2.220D-16\n",
      " N =        51300     M =           10\n",
      "\n",
      "At X0         0 variables are exactly at the bounds\n",
      "\n",
      "At iterate    0    f=  4.60517D+04    |proj g|=  3.11398D+02\n",
      "\n",
      "At iterate   50    f=  7.24204D+03    |proj g|=  4.56411D+01\n",
      "\n",
      "At iterate  100    f=  6.77026D+03    |proj g|=  1.40644D+01\n",
      "\n",
      "At iterate  150    f=  6.75127D+03    |proj g|=  6.48170D+00\n",
      "\n",
      "At iterate  200    f=  6.74988D+03    |proj g|=  4.57239D+00\n",
      "\n",
      "At iterate  250    f=  6.74330D+03    |proj g|=  1.24446D+01\n",
      "\n",
      "At iterate  300    f=  6.73569D+03    |proj g|=  9.74934D+00\n",
      "\n",
      "At iterate  350    f=  6.73517D+03    |proj g|=  1.60923D+00\n",
      "\n",
      "At iterate  400    f=  6.73514D+03    |proj g|=  4.91326D-01\n",
      "\n",
      "At iterate  450    f=  6.73503D+03    |proj g|=  5.55141D-01\n",
      "\n",
      "At iterate  500    f=  6.73482D+03    |proj g|=  4.48665D-01\n",
      "\n",
      "At iterate  550    f=  6.73479D+03    |proj g|=  5.11346D-02\n",
      "\n",
      "           * * *\n",
      "\n",
      "Tit   = total number of iterations\n",
      "Tnf   = total number of function evaluations\n",
      "Tnint = total number of segments explored during Cauchy searches\n",
      "Skip  = number of BFGS updates skipped\n",
      "Nact  = number of active bounds at final generalized Cauchy point\n",
      "Projg = norm of the final projected gradient\n",
      "F     = final function value\n",
      "\n",
      "           * * *\n",
      "\n",
      "   N    Tit     Tnf  Tnint  Skip  Nact     Projg        F\n",
      "51300    565    583      1     0     0   1.069D-01   6.735D+03\n",
      "  F =   6734.7930691789770     \n",
      "\n",
      "CONVERGENCE: REL_REDUCTION_OF_F_<=_FACTR*EPSMCH             \n",
      "Accuracy = 76.110\n"
     ]
    },
    {
     "name": "stderr",
     "output_type": "stream",
     "text": [
      "[Parallel(n_jobs=1)]: Done   1 out of   1 | elapsed:  1.7min finished\n"
     ]
    }
   ],
   "source": [
    "from sklearn.linear_model import LogisticRegression\n",
    "\n",
    "# Perform logistic regression\n",
    "cifar_classifier = LogisticRegression(random_state=0, C=0.316, max_iter=1000, verbose=1)\n",
    "cifar_classifier.fit(cifar_train_features, cifar_train_labels)\n",
    "\n",
    "# Evaluate using the logistic regression classifier\n",
    "cifar_predictions = classifier.predict(cifar_test_features)\n",
    "cifar_accuracy = np.mean((cifar_test_labels == cifar_predictions).astype(float)) * 100.\n",
    "print(f\"Accuracy = {cifar_accuracy:.3f}\")"
   ]
  },
  {
   "cell_type": "code",
   "execution_count": 25,
   "id": "20564a5f-45a0-4064-aa13-409c00293952",
   "metadata": {},
   "outputs": [],
   "source": [
    "cifar_test_scores = classifier.predict_proba(cifar_test_features)\n",
    "cifar_psets_no_finetune, cifar_targets_no_finetune = conformal_prediction(cifar_test_scores, cifar_test_labels)"
   ]
  },
  {
   "cell_type": "code",
   "execution_count": null,
   "id": "d63894e5-090f-41a0-b6c8-c9f75ad3ebec",
   "metadata": {},
   "outputs": [],
   "source": []
  },
  {
   "cell_type": "code",
   "execution_count": null,
   "id": "7349371f-2a30-431a-a7a6-8ac31d4d5b3c",
   "metadata": {},
   "outputs": [],
   "source": []
  },
  {
   "cell_type": "code",
   "execution_count": null,
   "id": "191a6283-e38f-43e7-90e5-781a14d8977e",
   "metadata": {},
   "outputs": [],
   "source": []
  },
  {
   "cell_type": "code",
   "execution_count": null,
   "id": "966702b5-fb18-434a-9754-1272b6478753",
   "metadata": {},
   "outputs": [],
   "source": []
  },
  {
   "cell_type": "code",
   "execution_count": 2,
   "id": "f45c968d-4a8c-42fa-9771-e6b8aca6633b",
   "metadata": {},
   "outputs": [],
   "source": [
    "def finetune(model, train_dl, test_dl=None, epochs=1, batch_size=100, save_name=None):\n",
    "\n",
    "    #https://github.com/openai/CLIP/issues/57\n",
    "    def convert_models_to_fp32(model): \n",
    "        for p in model.parameters(): \n",
    "            if p.requires_grad:\n",
    "                p.data = p.data.float() \n",
    "                p.grad.data = p.grad.data.float() \n",
    "\n",
    "    if device == \"cpu\":\n",
    "        model.float()\n",
    "        \n",
    "    for name, param in model.named_parameters():\n",
    "        if name not in [\n",
    "            'transformer.resblocks.11.mlp.c_fc.weight',\n",
    "            'transformer.resblocks.11.mlp.c_fc.bias',\n",
    "            'transformer.resblocks.11.mlp.c_proj.weight',\n",
    "            'transformer.resblocks.11.mlp.c_proj.bias',\n",
    "            'transformer.resblocks.11.ln_2.weight',\n",
    "            'transformer.resblocks.11.ln_2.bias',\n",
    "            'token_embedding.weight',\n",
    "            'ln_final.weight',\n",
    "            'ln_final.bias',\n",
    "        ]:\n",
    "            param.requires_grad = False\n",
    "\n",
    "    loss_img = nn.CrossEntropyLoss()\n",
    "    loss_txt = nn.CrossEntropyLoss()\n",
    "    # optimizer = optim.Adam(model.parameters(), lr=5e-5,betas=(0.9,0.98),eps=1e-6,weight_decay=0.2)\n",
    "    model.visual.transformer.resblocks[-1].mlp.requires_grad_()\n",
    "    params_to_update = model.visual.transformer.resblocks[-1].mlp\n",
    "    optimizer = optim.Adam(params_to_update.parameters(), lr=1e-5)\n",
    "    # scheduler = optim.lr_scheduler.CosineAnnealingLR(optimizer, len(train_dl)*epochs)\n",
    "\n",
    "    best_te_loss = 1e5\n",
    "    best_ep = -1\n",
    "    for epoch in range(epochs):\n",
    "        print(f\"running epoch {epoch}, best test loss {best_te_loss} after epoch {best_ep}\")\n",
    "        step = 0\n",
    "        tr_loss = 0\n",
    "        model.train()\n",
    "        pbar = tqdm(train_dl, leave=False)\n",
    "        for batch in pbar:\n",
    "            step += 1\n",
    "            optimizer.zero_grad()\n",
    "\n",
    "            images, labels, texts = batch\n",
    "            images = images.to(device)\n",
    "            texts = clip.tokenize(texts).to(device)\n",
    "    #         print(images.shape, texts.shape)\n",
    "            logits_per_image, logits_per_text = model(images, texts)\n",
    "            ground_truth = torch.arange(batch_size).to(device)\n",
    "\n",
    "            total_loss = (loss_img(logits_per_image, ground_truth) + loss_txt(logits_per_text, ground_truth))/2\n",
    "            total_loss.backward()\n",
    "            tr_loss += total_loss.item()\n",
    "            if device == \"cpu\":\n",
    "                optimizer.step()\n",
    "                # scheduler.step()\n",
    "            else:\n",
    "                convert_models_to_fp32(model)\n",
    "                optimizer.step()\n",
    "                # scheduler.step()\n",
    "                clip.model.convert_weights(model)\n",
    "            pbar.set_description(f\"train batch CE: {total_loss.item()}\", refresh=True)\n",
    "        tr_loss /= step\n",
    "\n",
    "    if test_dl is not None:\n",
    "        step = 0\n",
    "        te_loss = 0\n",
    "        with torch.no_grad():\n",
    "            model.eval()\n",
    "            test_pbar = tqdm(test_dl, leave=False)\n",
    "            for batch in test_pbar:\n",
    "                step += 1\n",
    "                images, labels, texts = batch\n",
    "                images = images.to(device)\n",
    "                texts = clip.tokenize(texts).to(device)\n",
    "                logits_per_image, logits_per_text = model(images, texts)\n",
    "                ground_truth = torch.arange(batch_size).to(device)\n",
    "\n",
    "                total_loss = (loss_img(logits_per_image, ground_truth) + loss_txt(logits_per_text, ground_truth))/2\n",
    "                te_loss += total_loss.item()\n",
    "                test_pbar.set_description(f\"test batch CE: {total_loss.item()}\", refresh=True)\n",
    "            te_loss /= step\n",
    "\n",
    "        if te_loss < best_te_loss:\n",
    "            best_te_loss = te_loss\n",
    "            best_ep = epoch\n",
    "            if save_name is not None:\n",
    "                torch.save(model.state_dict(), f\"model_{save_name}_best.pt\")\n",
    "        print(f\"epoch {epoch}, tr_loss {tr_loss}, te_loss {te_loss}\")\n",
    "\n",
    "        if save_name is not None:\n",
    "            torch.save(model.state_dict(), f\"model_{save_name}_last.pt\")\n",
    "    return model"
   ]
  },
  {
   "cell_type": "code",
   "execution_count": 16,
   "id": "d15b2905-94f6-43d1-a0a7-1196a7a0a46a",
   "metadata": {},
   "outputs": [],
   "source": [
    "def evaluate(model, test_ds, classes):\n",
    "    true_class = []\n",
    "    pred_class = []\n",
    "    pred_scores = []\n",
    "\n",
    "    with torch.no_grad(), torch.cuda.amp.autocast():\n",
    "        prompt = clip.tokenize(['a ' + c for c in classes]).cuda()\n",
    "        text_features = model.encode_text(prompt)\n",
    "        text_features /= text_features.norm(dim=-1, keepdim=True)\n",
    "\n",
    "        for i in tqdm(range(len(test_ds))):\n",
    "            x, y, _ = test_ds[i]\n",
    "            image_features = model.encode_image(x.unsqueeze(0).cuda())\n",
    "            image_features /= image_features.norm(dim=-1, keepdim=True)\n",
    "            scores = (image_features @ text_features.T).softmax(dim=-1)\n",
    "\n",
    "            true_class.append(y)\n",
    "            pred_class.append(scores.argmax().item())\n",
    "            pred_scores.append(scores.detach().cpu().numpy().squeeze())\n",
    "\n",
    "    true_class = np.asarray(true_class)\n",
    "    pred_class = np.asarray(pred_class)\n",
    "    pred_scores = np.asarray(pred_scores)\n",
    "\n",
    "    return true_class, pred_class, pred_scores"
   ]
  },
  {
   "cell_type": "code",
   "execution_count": 24,
   "id": "62e4af3a-20d2-4905-b222-cf5e20fc9adf",
   "metadata": {},
   "outputs": [],
   "source": [
    "def conformal_prediction(scores, targets, cal_frac=0.1, alpha=0.1):\n",
    "    n = scores.shape[0]\n",
    "    acc = (scores.argmax(1) == targets).sum() / n\n",
    "    \n",
    "    print(f'ACCURACY: {acc:.1%}')\n",
    "\n",
    "    n = int(round(cal_frac * n))\n",
    "    cal_scores = torch.tensor(scores[:n], dtype=torch.float)\n",
    "    cal_targets = torch.tensor(targets[:n], dtype=torch.long)\n",
    "    val_scores = torch.tensor(scores[n:], dtype=torch.float)\n",
    "    val_targets = torch.tensor(targets[n:], dtype=torch.long)\n",
    "\n",
    "    qhat = get_quantile(cal_scores, cal_targets, alpha=alpha)\n",
    "    psets = make_prediction_sets(val_scores, qhat)\n",
    "\n",
    "    print(f'COVERAGE: {get_coverage(psets, val_targets):.1%}')\n",
    "    print(f'SET SIZE: {get_size(psets):.1f}')\n",
    "    return psets, val_targets"
   ]
  },
  {
   "cell_type": "code",
   "execution_count": 18,
   "id": "e213b339-3d02-406f-a920-f098de83020b",
   "metadata": {},
   "outputs": [],
   "source": [
    "def get_features(model, dataset, device):\n",
    "    all_features = []\n",
    "    all_labels = []\n",
    "    \n",
    "    with torch.no_grad():\n",
    "        for images, labels, text in tqdm(DataLoader(dataset, batch_size=100)):\n",
    "            features = model.encode_image(images.to(device))\n",
    "\n",
    "            all_features.append(features)\n",
    "            all_labels.append(labels)\n",
    "\n",
    "    return torch.cat(all_features).cpu().numpy(), torch.cat(all_labels).cpu().numpy()"
   ]
  },
  {
   "cell_type": "markdown",
   "id": "3eff497b-8059-4a9f-92ca-68ecb40e1c62",
   "metadata": {},
   "source": [
    "### CIFAR100"
   ]
  },
  {
   "cell_type": "code",
   "execution_count": 2,
   "id": "1d6b3760",
   "metadata": {},
   "outputs": [],
   "source": [
    "data_dir = Path('../data')\n",
    "device = \"cuda\" if torch.cuda.is_available() else \"cpu\""
   ]
  },
  {
   "cell_type": "code",
   "execution_count": 3,
   "id": "dc260c4c",
   "metadata": {},
   "outputs": [],
   "source": [
    "k = 10000\n",
    "model, preprocess = clip.load(\"ViT-B/32\", device=device, jit=False)\n",
    "\n",
    "    \n",
    "_transforms = transforms.Compose([\n",
    "    transforms.ToPILImage(),\n",
    "    preprocess,\n",
    "])\n",
    "\n",
    "cifar_train = datasets.CIFAR100(root=data_dir, train=True)\n",
    "cifar_test = datasets.CIFAR100(root=data_dir, train=False)\n",
    "\n",
    "cifar_classes = tuple(cifar_test.classes)\n",
    "cifar_class_map = dict(map(reversed, cifar_test.class_to_idx.items()))\n",
    "cifar_num_classes = len(cifar_classes)\n",
    "\n",
    "cifar_train_ds = ClipDataset(cifar_train.data, cifar_train.targets, class_map=cifar_class_map, transforms=_transforms, k=k)\n",
    "cifar_test_ds = ClipDataset(cifar_test.data, cifar_test.targets, class_map=cifar_class_map, transforms=_transforms, k=k)\n"
   ]
  },
  {
   "cell_type": "code",
   "execution_count": 42,
   "id": "150d3447",
   "metadata": {},
   "outputs": [
    {
     "name": "stderr",
     "output_type": "stream",
     "text": [
      "100%|██████████| 100/100 [00:16<00:00,  6.19it/s]\n",
      "100%|██████████| 100/100 [00:16<00:00,  6.20it/s]\n"
     ]
    }
   ],
   "source": [
    "cifar_train_features, cifar_train_labels = get_features(model, cifar_train_ds, device)\n",
    "cifar_test_features, cifar_test_labels = get_features(model, cifar_test_ds, device)"
   ]
  },
  {
   "cell_type": "code",
   "execution_count": 11,
   "id": "2588470e",
   "metadata": {},
   "outputs": [
    {
     "name": "stderr",
     "output_type": "stream",
     "text": [
      "[Parallel(n_jobs=1)]: Using backend SequentialBackend with 1 concurrent workers.\n",
      " This problem is unconstrained.\n"
     ]
    },
    {
     "name": "stdout",
     "output_type": "stream",
     "text": [
      "RUNNING THE L-BFGS-B CODE\n",
      "\n",
      "           * * *\n",
      "\n",
      "Machine precision = 2.220D-16\n",
      " N =        51300     M =           10\n",
      "\n",
      "At X0         0 variables are exactly at the bounds\n",
      "\n",
      "At iterate    0    f=  4.60517D+04    |proj g|=  3.11398D+02\n",
      "\n",
      "At iterate   50    f=  7.24204D+03    |proj g|=  4.56411D+01\n",
      "\n",
      "At iterate  100    f=  6.77026D+03    |proj g|=  1.40644D+01\n",
      "\n",
      "At iterate  150    f=  6.75127D+03    |proj g|=  6.48170D+00\n",
      "\n",
      "At iterate  200    f=  6.74988D+03    |proj g|=  4.57239D+00\n",
      "\n",
      "At iterate  250    f=  6.74330D+03    |proj g|=  1.24446D+01\n",
      "\n",
      "At iterate  300    f=  6.73569D+03    |proj g|=  9.74934D+00\n",
      "\n",
      "At iterate  350    f=  6.73517D+03    |proj g|=  1.60923D+00\n",
      "\n",
      "At iterate  400    f=  6.73514D+03    |proj g|=  4.91326D-01\n",
      "\n",
      "At iterate  450    f=  6.73503D+03    |proj g|=  5.55141D-01\n",
      "\n",
      "At iterate  500    f=  6.73482D+03    |proj g|=  4.48665D-01\n",
      "\n",
      "At iterate  550    f=  6.73479D+03    |proj g|=  5.11346D-02\n",
      "\n",
      "           * * *\n",
      "\n",
      "Tit   = total number of iterations\n",
      "Tnf   = total number of function evaluations\n",
      "Tnint = total number of segments explored during Cauchy searches\n",
      "Skip  = number of BFGS updates skipped\n",
      "Nact  = number of active bounds at final generalized Cauchy point\n",
      "Projg = norm of the final projected gradient\n",
      "F     = final function value\n",
      "\n",
      "           * * *\n",
      "\n",
      "   N    Tit     Tnf  Tnint  Skip  Nact     Projg        F\n",
      "51300    565    583      1     0     0   1.069D-01   6.735D+03\n",
      "  F =   6734.7930691789770     \n",
      "\n",
      "CONVERGENCE: REL_REDUCTION_OF_F_<=_FACTR*EPSMCH             \n",
      "Accuracy = 76.110\n"
     ]
    },
    {
     "name": "stderr",
     "output_type": "stream",
     "text": [
      "[Parallel(n_jobs=1)]: Done   1 out of   1 | elapsed:  1.7min finished\n"
     ]
    }
   ],
   "source": [
    "from sklearn.linear_model import LogisticRegression\n",
    "\n",
    "# Perform logistic regression\n",
    "cifar_classifier = LogisticRegression(random_state=0, C=0.316, max_iter=1000, verbose=1)\n",
    "cifar_classifier.fit(cifar_train_features, cifar_train_labels)\n",
    "\n",
    "# Evaluate using the logistic regression classifier\n",
    "cifar_predictions = classifier.predict(cifar_test_features)\n",
    "cifar_accuracy = np.mean((cifar_test_labels == cifar_predictions).astype(float)) * 100.\n",
    "print(f\"Accuracy = {cifar_accuracy:.3f}\")"
   ]
  },
  {
   "cell_type": "code",
   "execution_count": 25,
   "id": "bf3cd635-6a7f-4c87-9794-9016874baf41",
   "metadata": {},
   "outputs": [],
   "source": [
    "cifar_test_scores = classifier.predict_proba(cifar_test_features)\n",
    "cifar_psets_no_finetune, cifar_targets_no_finetune = conformal_prediction(cifar_test_scores, cifar_test_labels)"
   ]
  },
  {
   "cell_type": "code",
   "execution_count": null,
   "id": "697d992a-87e8-442b-ab57-a1361f802593",
   "metadata": {},
   "outputs": [],
   "source": []
  },
  {
   "cell_type": "code",
   "execution_count": 92,
   "id": "a8fa0f4c-362f-4f39-a5e8-7a042efce331",
   "metadata": {},
   "outputs": [],
   "source": [
    "sample = next(iter(cifar_train_dl))[2]\n",
    "batch_size = len(sample)\n",
    "assert batch_size == len(set(sample))"
   ]
  },
  {
   "cell_type": "code",
   "execution_count": 93,
   "id": "cd0c66a3-729f-415e-a266-a9ef580ad5b1",
   "metadata": {},
   "outputs": [
    {
     "name": "stderr",
     "output_type": "stream",
     "text": [
      "100%|██████████| 10000/10000 [01:33<00:00, 106.90it/s]"
     ]
    },
    {
     "name": "stdout",
     "output_type": "stream",
     "text": [
      "ACCURACY: 60.2%\n",
      "COVERAGE: 90.2%\n",
      "SET SIZE: 9.2\n"
     ]
    },
    {
     "name": "stderr",
     "output_type": "stream",
     "text": [
      "\n"
     ]
    }
   ],
   "source": [
    "cifar_psets_no_finetune, cifar_targets_no_finetune = conformal_prediction(model, cifar_test_ds, classes=cifar_classes)"
   ]
  },
  {
   "cell_type": "code",
   "execution_count": 94,
   "id": "449c23ec-8a37-4e13-8794-192b873591fc",
   "metadata": {},
   "outputs": [
    {
     "name": "stdout",
     "output_type": "stream",
     "text": [
      "running epoch 0, best test loss 100000.0 after epoch -1\n"
     ]
    },
    {
     "name": "stderr",
     "output_type": "stream",
     "text": [
      "                                                                                        \r"
     ]
    }
   ],
   "source": [
    "model = finetune(model, cifar_train_dl, test_dl=None, epochs=1, batch_size=cifar_num_classes, save_name=None)"
   ]
  },
  {
   "cell_type": "code",
   "execution_count": 95,
   "id": "4527161d-941c-4010-b4cc-aaf4ed4e4291",
   "metadata": {},
   "outputs": [
    {
     "name": "stderr",
     "output_type": "stream",
     "text": [
      "100%|██████████| 10000/10000 [01:34<00:00, 106.31it/s]"
     ]
    },
    {
     "name": "stdout",
     "output_type": "stream",
     "text": [
      "ACCURACY: 64.5%\n",
      "COVERAGE: 90.7%\n",
      "SET SIZE: 6.8\n"
     ]
    },
    {
     "name": "stderr",
     "output_type": "stream",
     "text": [
      "\n"
     ]
    }
   ],
   "source": [
    "cifar_psets_finetune, cifar_targets_finetune = conformal_prediction(model, cifar_test_ds, classes=cifar_classes)"
   ]
  },
  {
   "cell_type": "markdown",
   "id": "6f04262c-78eb-424a-8d6c-bf3fbcab1d76",
   "metadata": {},
   "source": [
    "### ImageNet"
   ]
  },
  {
   "cell_type": "code",
   "execution_count": 33,
   "id": "284fa2be-0d6d-4b24-a36a-2d02c8081e84",
   "metadata": {},
   "outputs": [],
   "source": [
    "k = 40000\n",
    "val_data = np.load(data_dir/'Imagenet64_val_npz/val_data.npz')\n",
    "images = val_data['data'].reshape(-1, 3, 64, 64)\n",
    "labels = val_data['labels']\n",
    "random_perm = np.random.permutation(images.shape[0])\n",
    "train_subset = random_perm[:k]\n",
    "test_subset = random_perm[k:]\n",
    "train_images = images[train_subset]\n",
    "train_labels = labels[train_subset]\n",
    "test_images = images[test_subset]\n",
    "test_labels = labels[test_subset]\n",
    "df = pd.read_csv(data_dir/'map_clsloc.txt', sep=' ', header=None, names=['id', 'index', 'class'])\n",
    "df['index'] = df['index'] - 1\n",
    "imagenet_classes = df['class'].values\n",
    "imagenet_num_classes = len(imagenet_classes)\n",
    "imagenet_class_map = dict(df[['index', 'class']].values)\n",
    "\n",
    "imagenet_train_ds = ClipDataset(\n",
    "    train_images, train_labels, \n",
    "    transforms=transforms.Compose([\n",
    "        transforms.Lambda(lambda x: np.moveaxis(x, 0, -1)),\n",
    "        transforms.ToPILImage(),\n",
    "        preprocess,\n",
    "    ]),\n",
    "    target_transforms=transforms.Lambda(lambda y: y - 1),\n",
    "    class_map=imagenet_class_map,\n",
    "    k=k,\n",
    ")\n",
    "imagenet_test_ds = ClipDataset(\n",
    "    test_images, test_labels, \n",
    "    transforms=transforms.Compose([\n",
    "        transforms.Lambda(lambda x: np.moveaxis(x, 0, -1)),\n",
    "        transforms.ToPILImage(),\n",
    "        preprocess,\n",
    "    ]),\n",
    "    target_transforms=transforms.Lambda(lambda y: y - 1),\n",
    "    class_map=imagenet_class_map,\n",
    "    k=len(test_labels),\n",
    ")\n",
    "# imagenet_train_sampler = BalancedBatchSampler(train_labels, imagenet_num_classes)\n",
    "# imagenet_train_dl = DataLoader(imagenet_train_ds, batch_sampler=imagenet_train_sampler)\n",
    "# imagenet_test_sampler = BalancedBatchSampler(test_labels, imagenet_num_classes)\n",
    "# imagenet_test_dl = DataLoader(imagenet_test_ds, batch_sampler=imagenet_test_sampler)"
   ]
  },
  {
   "cell_type": "code",
   "execution_count": 34,
   "id": "a96cb3ab-e09d-46ff-9e82-77f247ece01c",
   "metadata": {},
   "outputs": [
    {
     "name": "stderr",
     "output_type": "stream",
     "text": [
      "100%|██████████| 100/100 [00:16<00:00,  5.92it/s]\n"
     ]
    }
   ],
   "source": [
    "imagenet_train_features, imagenet_train_labels = get_features(model, imagenet_train_ds, device)\n",
    "imagenet_test_features, imagenet_test_labels = get_features(model, imagenet_test_ds, device)"
   ]
  },
  {
   "cell_type": "code",
   "execution_count": 38,
   "id": "67bdad0f-237f-4797-841b-60b5288fd37c",
   "metadata": {},
   "outputs": [
    {
     "data": {
      "text/plain": [
       "(10000, 512)"
      ]
     },
     "execution_count": 38,
     "metadata": {},
     "output_type": "execute_result"
    }
   ],
   "source": [
    "imagenet_test_features.shape"
   ]
  },
  {
   "cell_type": "code",
   "execution_count": 35,
   "id": "29222f2f-65e0-4460-ab5c-0485b04948f2",
   "metadata": {},
   "outputs": [
    {
     "name": "stderr",
     "output_type": "stream",
     "text": [
      "[Parallel(n_jobs=1)]: Using backend SequentialBackend with 1 concurrent workers.\n"
     ]
    },
    {
     "name": "stdout",
     "output_type": "stream",
     "text": [
      "RUNNING THE L-BFGS-B CODE\n",
      "\n",
      "           * * *\n",
      "\n",
      "Machine precision = 2.220D-16\n",
      " N =       513000     M =           10\n",
      "\n",
      "At X0         0 variables are exactly at the bounds\n",
      "\n",
      "At iterate    0    f=  2.76310D+05    |proj g|=  1.13046D+02\n"
     ]
    },
    {
     "name": "stderr",
     "output_type": "stream",
     "text": [
      " This problem is unconstrained.\n"
     ]
    },
    {
     "name": "stdout",
     "output_type": "stream",
     "text": [
      "\n",
      "At iterate   50    f=  5.06982D+04    |proj g|=  8.86100D+01\n",
      "\n",
      "At iterate  100    f=  4.98410D+04    |proj g|=  1.11898D+01\n",
      "\n",
      "At iterate  150    f=  4.98080D+04    |proj g|=  8.53436D+00\n",
      "\n",
      "At iterate  200    f=  4.97108D+04    |proj g|=  9.36337D+00\n",
      "\n",
      "At iterate  250    f=  4.97077D+04    |proj g|=  1.05749D+00\n",
      "\n",
      "At iterate  300    f=  4.97054D+04    |proj g|=  2.64765D+00\n",
      "\n",
      "At iterate  350    f=  4.97042D+04    |proj g|=  7.56952D-01\n",
      "\n",
      "At iterate  400    f=  4.97041D+04    |proj g|=  4.53872D-01\n",
      "\n",
      "At iterate  450    f=  4.97040D+04    |proj g|=  1.27979D-01\n",
      "\n",
      "           * * *\n",
      "\n",
      "Tit   = total number of iterations\n",
      "Tnf   = total number of function evaluations\n",
      "Tnint = total number of segments explored during Cauchy searches\n",
      "Skip  = number of BFGS updates skipped\n",
      "Nact  = number of active bounds at final generalized Cauchy point\n",
      "Projg = norm of the final projected gradient\n",
      "F     = final function value\n",
      "\n",
      "           * * *\n",
      "\n",
      "   N    Tit     Tnf  Tnint  Skip  Nact     Projg        F\n",
      "*****    459    476      1     0     0   9.582D-02   4.970D+04\n",
      "  F =   49703.976027418961     \n",
      "\n",
      "CONVERGENCE: REL_REDUCTION_OF_F_<=_FACTR*EPSMCH             \n",
      "Accuracy = 0.040\n"
     ]
    },
    {
     "name": "stderr",
     "output_type": "stream",
     "text": [
      "[Parallel(n_jobs=1)]: Done   1 out of   1 | elapsed:  9.7min finished\n"
     ]
    }
   ],
   "source": [
    "from sklearn.linear_model import LogisticRegression\n",
    "\n",
    "# Perform logistic regression\n",
    "imagenet_classifier = LogisticRegression(random_state=0, C=0.316, max_iter=1000, verbose=1)\n",
    "imagenet_classifier.fit(imagenet_train_features, imagenet_train_labels)\n",
    "\n",
    "# Evaluate using the logistic regression classifier\n",
    "imagenet_predictions = classifier.predict(imagenet_test_features)\n",
    "imagenet_accuracy = np.mean((imagenet_test_labels == imagenet_predictions).astype(float)) * 100.\n",
    "print(f\"Accuracy = {imagenet_accuracy:.3f}\")"
   ]
  },
  {
   "cell_type": "code",
   "execution_count": 40,
   "id": "6f9d53e2-cbcc-4e82-a643-95b81e1460ce",
   "metadata": {},
   "outputs": [
    {
     "name": "stdout",
     "output_type": "stream",
     "text": [
      "ACCURACY: 87.1%\n",
      "COVERAGE: 91.6%\n",
      "SET SIZE: 1.3\n"
     ]
    }
   ],
   "source": [
    "imagenet_test_scores = imagenet_classifier.predict_proba(imagenet_test_features)\n",
    "imagenet_psets_no_finetune, imagenet_targets_no_finetune = conformal_prediction(imagenet_test_scores, imagenet_test_labels)"
   ]
  },
  {
   "cell_type": "code",
   "execution_count": null,
   "id": "7775336c-19ee-43d4-b402-ea6ba48617e0",
   "metadata": {},
   "outputs": [],
   "source": []
  },
  {
   "cell_type": "code",
   "execution_count": null,
   "id": "781dc0f0-ff27-499d-96fe-f5491e18c995",
   "metadata": {},
   "outputs": [],
   "source": []
  },
  {
   "cell_type": "code",
   "execution_count": null,
   "id": "95ba8744-939d-4d88-a3d3-3a5734c369ff",
   "metadata": {},
   "outputs": [],
   "source": []
  },
  {
   "cell_type": "code",
   "execution_count": 86,
   "id": "3e0cca6c-46d8-469e-a1e8-d2a3dda256a3",
   "metadata": {},
   "outputs": [],
   "source": [
    "model, preprocess = clip.load(\"ViT-B/32\", device=device, jit=False)\n",
    "_transforms = transforms.Compose([\n",
    "    transforms.ToPILImage(),\n",
    "    preprocess,\n",
    "])\n",
    "epochs = 1\n",
    "sample = next(iter(imagenet_train_dl))[2]\n",
    "batch_size = len(sample)\n",
    "# assert batch_size == len(set(sample))"
   ]
  },
  {
   "cell_type": "code",
   "execution_count": 87,
   "id": "2e22052b-acdc-427d-ac6b-1509584fccf6",
   "metadata": {},
   "outputs": [
    {
     "name": "stderr",
     "output_type": "stream",
     "text": [
      "100%|██████████| 10000/10000 [01:35<00:00, 104.94it/s]"
     ]
    },
    {
     "name": "stdout",
     "output_type": "stream",
     "text": [
      "ACCURACY: 35.8%\n",
      "COVERAGE: 89.8%\n",
      "SET SIZE: 59.9\n"
     ]
    },
    {
     "name": "stderr",
     "output_type": "stream",
     "text": [
      "\n"
     ]
    }
   ],
   "source": [
    "imagenet_psets_no_finetune, imagenet_targets_no_finetune = conformal_prediction(model, imagenet_test_ds, classes=imagenet_classes)"
   ]
  },
  {
   "cell_type": "code",
   "execution_count": 88,
   "id": "ce88a714-78bc-4b2c-916f-8b346abcd638",
   "metadata": {},
   "outputs": [
    {
     "name": "stdout",
     "output_type": "stream",
     "text": [
      "running epoch 0, best test loss 100000.0 after epoch -1\n"
     ]
    },
    {
     "name": "stderr",
     "output_type": "stream",
     "text": [
      "                                                                           \r"
     ]
    }
   ],
   "source": [
    "model = finetune(model, imagenet_train_dl, test_dl=None, epochs=epochs, batch_size=imagenet_num_classes, save_name=None)"
   ]
  },
  {
   "cell_type": "code",
   "execution_count": 89,
   "id": "4f9db2bc-5540-438c-bfbf-76cafe8a1995",
   "metadata": {},
   "outputs": [
    {
     "name": "stderr",
     "output_type": "stream",
     "text": [
      "100%|██████████| 10000/10000 [01:46<00:00, 94.30it/s]"
     ]
    },
    {
     "name": "stdout",
     "output_type": "stream",
     "text": [
      "ACCURACY: 43.0%\n",
      "COVERAGE: 89.8%\n",
      "SET SIZE: 41.2\n"
     ]
    },
    {
     "name": "stderr",
     "output_type": "stream",
     "text": [
      "\n"
     ]
    }
   ],
   "source": [
    "imagenet_psets_finetune, imagenet_targets_finetune = conformal_prediction(model, imagenet_test_ds, classes=imagenet_classes)"
   ]
  },
  {
   "cell_type": "code",
   "execution_count": null,
   "id": "b8d4de9b-f312-42b5-8ef3-ceab771cd811",
   "metadata": {},
   "outputs": [],
   "source": []
  },
  {
   "cell_type": "code",
   "execution_count": 103,
   "id": "00635f9a-c355-49b2-a14b-b9d5579bccb1",
   "metadata": {},
   "outputs": [
    {
     "data": {
      "text/plain": [
       "([<matplotlib.axis.YTick at 0x7f49908485b0>,\n",
       "  <matplotlib.axis.YTick at 0x7f499082ef10>,\n",
       "  <matplotlib.axis.YTick at 0x7f499082e790>,\n",
       "  <matplotlib.axis.YTick at 0x7f496fbb7250>],\n",
       " [Text(0, 1, 'CIFAR100 \\n no probing'),\n",
       "  Text(0, 2, 'CIFAR100 \\n with probing'),\n",
       "  Text(0, 3, 'Mini-ImageNet \\n no probing'),\n",
       "  Text(0, 4, 'Mini-ImageNet \\n with probing')])"
      ]
     },
     "execution_count": 103,
     "metadata": {},
     "output_type": "execute_result"
    },
    {
     "data": {
      "image/png": "[encoded data removed]",
      "text/plain": [
       "<Figure size 1000x600 with 1 Axes>"
      ]
     },
     "metadata": {},
     "output_type": "display_data"
    }
   ],
   "source": [
    "sizes = [\n",
    "    cifar_psets_no_finetune.sum(1),\n",
    "    cifar_psets_finetune.sum(1),\n",
    "    imagenet_psets_no_finetune.sum(1),\n",
    "    imagenet_psets_finetune.sum(1),\n",
    "]\n",
    "fontsize=24\n",
    "plt.figure(figsize=(10, 6))\n",
    "plt.violinplot(sizes, vert=False, widths=1.0, showmedians=True)\n",
    "plt.xlabel('Prediction set size', fontsize=fontsize)\n",
    "plt.xticks(fontsize=fontsize-4)\n",
    "plt.yticks(ticks=range(1, 5), labels=[f'CIFAR100 \\n no probing', f'CIFAR100 \\n with probing', f'Mini-ImageNet \\n no probing', f'Mini-ImageNet \\n with probing'], fontsize=fontsize-6)"
   ]
  },
  {
   "cell_type": "code",
   "execution_count": null,
   "id": "c525cf89-9eec-494d-ab00-5325936d705f",
   "metadata": {},
   "outputs": [],
   "source": []
  },
  {
   "cell_type": "code",
   "execution_count": null,
   "id": "851308e3-17bf-49e7-9489-e7bfd3a448b4",
   "metadata": {},
   "outputs": [],
   "source": []
  },
  {
   "cell_type": "markdown",
   "id": "c12e4643-1852-4ba6-9b87-2d5d8d0ba5f9",
   "metadata": {},
   "source": [
    "### iwildcam (TODO)"
   ]
  },
  {
   "cell_type": "code",
   "execution_count": 80,
   "id": "962dc647-32fc-412e-bf09-8106c1502571",
   "metadata": {},
   "outputs": [
    {
     "name": "stdout",
     "output_type": "stream",
     "text": [
      "7314 8154\n"
     ]
    },
    {
     "ename": "NameError",
     "evalue": "name 'wild_train_ds' is not defined",
     "output_type": "error",
     "traceback": [
      "\u001b[0;31m---------------------------------------------------------------------------\u001b[0m",
      "\u001b[0;31mNameError\u001b[0m                                 Traceback (most recent call last)",
      "Cell \u001b[0;32mIn[80], line 12\u001b[0m\n\u001b[1;32m      9\u001b[0m wild_num_classes \u001b[38;5;241m=\u001b[39m \u001b[38;5;28mlen\u001b[39m(wild_class_map)\n\u001b[1;32m     11\u001b[0m wild_train_sampler \u001b[38;5;241m=\u001b[39m BalancedBatchSampler(train_labels, wild_num_classes)\n\u001b[0;32m---> 12\u001b[0m wild_train_dl \u001b[38;5;241m=\u001b[39m DataLoader(\u001b[43mwild_train_ds\u001b[49m, batch_sampler\u001b[38;5;241m=\u001b[39mwild_train_sampler)\n\u001b[1;32m     13\u001b[0m wild_test_sampler \u001b[38;5;241m=\u001b[39m BalancedBatchSampler(test_labels, wild_num_classes)\n\u001b[1;32m     14\u001b[0m wild_test_dl \u001b[38;5;241m=\u001b[39m DataLoader(wild_test_ds, batch_sampler\u001b[38;5;241m=\u001b[39mwild_test_sampler)\n",
      "\u001b[0;31mNameError\u001b[0m: name 'wild_train_ds' is not defined"
     ]
    }
   ],
   "source": [
    "wild_dataset = wilds.get_dataset(dataset='iwildcam', root_dir=data_dir/'wilds')\n",
    "wild_train = wild_dataset.get_subset('id_val')\n",
    "wild_test = wild_dataset.get_subset('id_test', frac=1.0)\n",
    "print(len(wild_train), len(wild_test))\n",
    "\n",
    "wild_df = pd.read_csv(wild_dataset._data_dir / 'categories.csv')\n",
    "wild_class_map = dict(wild_df[['y', 'name']].values)\n",
    "wild_classes = tuple(wild_class_map.values())\n",
    "wild_num_classes = len(wild_class_map)\n",
    "\n",
    "wild_train_sampler = BalancedBatchSampler(train_labels, wild_num_classes)\n",
    "wild_train_dl = DataLoader(wild_train_ds, batch_sampler=wild_train_sampler)\n",
    "wild_test_sampler = BalancedBatchSampler(test_labels, wild_num_classes)\n",
    "wild_test_dl = DataLoader(wild_test_ds, batch_sampler=wild_test_sampler)"
   ]
  },
  {
   "cell_type": "code",
   "execution_count": 83,
   "id": "0077e3b2-6d17-4bd3-b3fa-8ad0da02776f",
   "metadata": {},
   "outputs": [
    {
     "data": {
      "text/plain": [
       "tensor([ 8,  8,  8,  ..., 52, 52, 52])"
      ]
     },
     "execution_count": 83,
     "metadata": {},
     "output_type": "execute_result"
    }
   ],
   "source": [
    "wild_train.y_array"
   ]
  },
  {
   "cell_type": "code",
   "execution_count": null,
   "id": "efd74dbf-b29b-4040-92d7-ab3d277604fa",
   "metadata": {},
   "outputs": [],
   "source": []
  },
  {
   "cell_type": "code",
   "execution_count": null,
   "id": "e7a6ecf8-a104-47af-a101-95d4509a6c8d",
   "metadata": {},
   "outputs": [],
   "source": []
  },
  {
   "cell_type": "code",
   "execution_count": null,
   "id": "8e161362-e6fb-4b73-97a3-34dd88c308c6",
   "metadata": {},
   "outputs": [],
   "source": []
  },
  {
   "cell_type": "markdown",
   "id": "cd370182-5979-4b0e-8178-348316cdfd7a",
   "metadata": {
    "tags": []
   },
   "source": [
    "# OLD "
   ]
  },
  {
   "cell_type": "markdown",
   "id": "eb051a6a-678d-4cd2-9454-6d7d0b946068",
   "metadata": {},
   "source": [
    "## datasets"
   ]
  },
  {
   "cell_type": "code",
   "execution_count": 3,
   "id": "1c5aa06c-c25e-4eaf-a9cc-f7ec4e1719d2",
   "metadata": {},
   "outputs": [],
   "source": [
    "# df = pd.read_csv(data_dir/'tiny-imagenet-200/val/val_annotations.txt', sep='\\t', header=None)\n",
    "# words_map = dict(pd.read_csv(data_dir/'tiny-imagenet-200/words.txt', sep='\\t', header=None).values)\n",
    "# all_words = sorted([x if isinstance(x, str) else '#' for x in words_map.values()])\n",
    "# df.insert(1, 'target', df.iloc[:, 1].map(words_map))\n",
    "# test_words = sorted(set(df.target.values))\n",
    "# test_words_map = dict(map(reversed, enumerate(test_words)))\n",
    "# df.insert(2, 'target_index', df.target.map(test_words_map))\n",
    "# df.rename(columns={0: 'image'}, inplace=True)"
   ]
  },
  {
   "cell_type": "code",
   "execution_count": 4,
   "id": "bf6748a8-328e-4684-8363-62e93e69fa72",
   "metadata": {},
   "outputs": [],
   "source": [
    "k = 10000\n",
    "val_data = np.load(data_dir/'Imagenet64_val_npz/val_data.npz')\n",
    "images = val_data['data'].reshape(-1, 3, 64, 64)\n",
    "labels = val_data['labels']\n",
    "subset = np.random.permutation(images.shape[0])[:k]\n",
    "images = images[subset]\n",
    "labels = labels[subset]\n",
    "df = pd.read_csv(data_dir/'map_clsloc.txt', sep=' ', header=None, names=['id', 'index', 'class'])"
   ]
  },
  {
   "cell_type": "code",
   "execution_count": 5,
   "id": "db967beb-5290-4ab8-bb31-67643f4deab5",
   "metadata": {},
   "outputs": [],
   "source": [
    "cifar_classes = tuple(cifar_test.classes)\n",
    "cifar_class_map = dict(map(reversed, cifar_test.class_to_idx.items()))"
   ]
  },
  {
   "cell_type": "code",
   "execution_count": 6,
   "id": "76d6a422-e41d-4251-950a-ee89b31cc7fa",
   "metadata": {},
   "outputs": [],
   "source": [
    "class DS(Dataset):\n",
    "    def __init__(self, images, labels, transforms=None, target_transforms=None):\n",
    "        assert len(images) == len(labels)\n",
    "        self.images = images\n",
    "        self.labels = labels\n",
    "        self.transforms = transforms\n",
    "        self.target_transforms = target_transforms\n",
    "        \n",
    "    def __getitem__(self, k):\n",
    "        x = self.images[k]\n",
    "        y = self.labels[k]\n",
    "        if self.transforms is not None:\n",
    "            x = self.transforms(x)\n",
    "        if self.target_transforms is not None:\n",
    "            y = self.target_transforms(y)\n",
    "        return x, y\n",
    "    \n",
    "    def __len__(self):\n",
    "        return len(self.images)\n",
    "    "
   ]
  },
  {
   "cell_type": "code",
   "execution_count": 7,
   "id": "f5da5de2-3002-4f22-be07-4a64c5af4408",
   "metadata": {},
   "outputs": [],
   "source": [
    "imagenet_test_dataset = DS(\n",
    "    images, labels, \n",
    "    transforms=transforms.Compose([\n",
    "        transforms.Lambda(lambda x: np.moveaxis(x, 0, -1)),\n",
    "        transforms.ToPILImage(),\n",
    "    ]),\n",
    "    target_transforms=transforms.Lambda(lambda y: y - 1),\n",
    ")"
   ]
  },
  {
   "cell_type": "code",
   "execution_count": 8,
   "id": "a7794067-13ae-4e1b-9185-18c0e2d12aeb",
   "metadata": {},
   "outputs": [],
   "source": [
    "cifar_test_dataset = DS(\n",
    "    cifar_test.data, cifar_test.targets,\n",
    "    transforms=transforms.Compose([\n",
    "        # transforms.ToTensor(),\n",
    "        # transforms.Normalize((0.5071, 0.4865, 0.4409), (0.2673, 0.2564, 0.2762)),\n",
    "        transforms.ToPILImage(),\n",
    "    ]), \n",
    ")\n",
    "\n",
    "loader_params = dict(batch_size=16, shuffle=False, pin_memory=True, num_workers=8)\n",
    "cifar_test_loader = DataLoader(cifar_test_dataset, **loader_params)"
   ]
  },
  {
   "cell_type": "code",
   "execution_count": 9,
   "id": "0bc6a87e-e337-4044-af9a-1260660b70c4",
   "metadata": {},
   "outputs": [],
   "source": []
  },
  {
   "cell_type": "code",
   "execution_count": 11,
   "id": "b86bbbdf-da46-4a7a-80e2-f06f29330f93",
   "metadata": {},
   "outputs": [
    {
     "data": {
      "text/plain": [
       "(8558, 8154)"
      ]
     },
     "execution_count": 11,
     "metadata": {},
     "output_type": "execute_result"
    }
   ],
   "source": [
    "len(wild_test_od), len(wild_test_id)"
   ]
  },
  {
   "cell_type": "markdown",
   "id": "2f272e69-4ec3-4fd2-afee-d3e71d55b072",
   "metadata": {},
   "source": [
    "## CLIP model"
   ]
  },
  {
   "cell_type": "code",
   "execution_count": 12,
   "id": "9d19667d-b06f-49e1-aa13-e0756f917e86",
   "metadata": {},
   "outputs": [],
   "source": [
    "tokenizer = open_clip.get_tokenizer('ViT-B-32-quickgelu')\n",
    "model, _, preprocess = open_clip.create_model_and_transforms('ViT-B-32-quickgelu', pretrained='laion400m_e32')"
   ]
  },
  {
   "cell_type": "code",
   "execution_count": 13,
   "id": "ec0645bc-b1ee-4100-995f-de6e2416a10f",
   "metadata": {},
   "outputs": [],
   "source": [
    "imagenet_classes = df['class'].values"
   ]
  },
  {
   "cell_type": "code",
   "execution_count": 14,
   "id": "80775ada-b480-4a5c-b5ce-e63e55657f1e",
   "metadata": {},
   "outputs": [
    {
     "name": "stderr",
     "output_type": "stream",
     "text": [
      "  3%|▉                              | 303/10000 [00:13<07:14, 22.32it/s]\n",
      "\n",
      "KeyboardInterrupt\n",
      "\n"
     ]
    }
   ],
   "source": [
    "imagenet_true_class = []\n",
    "imagenet_pred_class = []\n",
    "imagenet_pred_scores = []\n",
    "\n",
    "with torch.no_grad(), torch.cuda.amp.autocast():\n",
    "    prompt = tokenizer(['This is an image of a ' + c for c in imagenet_classes])\n",
    "    text_features = model.encode_text(prompt)\n",
    "    text_features /= text_features.norm(dim=-1, keepdim=True)\n",
    "\n",
    "    for i in tqdm(range(len(imagenet_test_dataset))):\n",
    "        x, y = imagenet_test_dataset[i]\n",
    "        image_features = model.encode_image(preprocess(x).unsqueeze(0))\n",
    "        image_features /= image_features.norm(dim=-1, keepdim=True)\n",
    "        scores = (image_features @ text_features.T).softmax(dim=-1)\n",
    "        \n",
    "        imagenet_true_class.append(y)\n",
    "        imagenet_pred_class.append(scores.argmax().item())\n",
    "        imagenet_pred_scores.append(scores.detach().cpu().numpy().squeeze())\n",
    "        \n",
    "imagenet_true_class = np.asarray(imagenet_true_class)\n",
    "imagenet_pred_class = np.asarray(imagenet_pred_class)\n",
    "imagenet_pred_scores = np.asarray(imagenet_pred_scores)\n",
    "\n",
    "imagenet_acc = (imagenet_true_class == imagenet_pred_class).sum() / imagenet_true_class.shape[0]\n",
    "print(f'imagenet100 accuracy: {imagenet_acc:.1%}')"
   ]
  },
  {
   "cell_type": "code",
   "execution_count": 11,
   "id": "3e9e39a3-d5e5-4006-be2e-d38621b975c5",
   "metadata": {},
   "outputs": [
    {
     "name": "stderr",
     "output_type": "stream",
     "text": [
      "100%|███████████████████████████████████████████████████████████████████████████████████████████████████████████████████████████████████████████| 10000/10000 [14:52<00:00, 11.20it/s]"
     ]
    },
    {
     "name": "stdout",
     "output_type": "stream",
     "text": [
      "CIFAR100 accuracy: 68.6%\n"
     ]
    },
    {
     "name": "stderr",
     "output_type": "stream",
     "text": [
      "\n"
     ]
    }
   ],
   "source": []
  },
  {
   "cell_type": "code",
   "execution_count": 12,
   "id": "5b654081-241d-4f8d-b6f0-743a1de837ae",
   "metadata": {},
   "outputs": [
    {
     "name": "stderr",
     "output_type": "stream",
     "text": [
      "100%|█████████████████████████████████████████████████████████████████████████████████████████████████████████████████████████████████████████████| 8154/8154 [15:07<00:00,  8.98it/s]\n",
      "100%|█████████████████████████████████████████████████████████████████████████████████████████████████████████| 8154/8154 [15:52<00:00,  8.56it/s]\n"
     ]
    },
    {
     "name": "stdout",
     "output_type": "stream",
     "text": [
      "WILD ID accuracy: 2.2%\n",
      "WILD OD accuracy: 2.2%\n"
     ]
    }
   ],
   "source": [
    "wild_id_true_class = []\n",
    "wild_id_pred_class = []\n",
    "wild_id_pred_scores = []\n",
    "\n",
    "with torch.no_grad(), torch.cuda.amp.autocast():\n",
    "    prompt = tokenizer(['This is an image of a ' + c for c in wild_classes])\n",
    "    text_features = model.encode_text(prompt)\n",
    "    text_features /= text_features.norm(dim=-1, keepdim=True)\n",
    "\n",
    "    for i in tqdm(range(len(wild_test_id))):\n",
    "        x, y, _ = wild_test_id[i]\n",
    "        image_features = model.encode_image(preprocess(x).unsqueeze(0))\n",
    "        image_features /= image_features.norm(dim=-1, keepdim=True)\n",
    "        scores = (image_features @ text_features.T).softmax(dim=-1)\n",
    "        \n",
    "        wild_id_true_class.append(y)\n",
    "        wild_id_pred_class.append(scores.argmax().item())\n",
    "        wild_id_pred_scores.append(scores.detach().cpu().numpy().squeeze())\n",
    "        \n",
    "wild_id_true_class = np.asarray(wild_id_true_class)\n",
    "wild_id_pred_class = np.asarray(wild_id_pred_class)\n",
    "wild_id_pred_scores = np.asarray(wild_id_pred_scores)\n",
    "\n",
    "wild_od_true_class = []\n",
    "wild_od_pred_class = []\n",
    "wild_od_pred_scores = []\n",
    "\n",
    "with torch.no_grad(), torch.cuda.amp.autocast():\n",
    "    prompt = tokenizer(['This is an image of a ' + c for c in wild_classes])\n",
    "    text_features = model.encode_text(prompt)\n",
    "    text_features /= text_features.norm(dim=-1, keepdim=True)\n",
    "\n",
    "    for i in tqdm(range(len(wild_test_id))):\n",
    "        x, y, _ = wild_test_id[i]\n",
    "        image_features = model.encode_image(preprocess(x).unsqueeze(0))\n",
    "        image_features /= image_features.norm(dim=-1, keepdim=True)\n",
    "        scores = (image_features @ text_features.T).softmax(dim=-1)\n",
    "        \n",
    "        wild_od_true_class.append(y)\n",
    "        wild_od_pred_class.append(scores.argmax().item())\n",
    "        wild_od_pred_scores.append(scores.detach().cpu().numpy().squeeze())\n",
    "        \n",
    "wild_od_true_class = np.asarray(wild_od_true_class)\n",
    "wild_od_pred_class = np.asarray(wild_od_pred_class)\n",
    "wild_od_pred_scores = np.asarray(wild_od_pred_scores)\n",
    "\n",
    "wild_id_acc = (wild_id_true_class == wild_id_pred_class).sum() / wild_id_true_class.shape[0]\n",
    "print(f'WILD ID accuracy: {wild_id_acc:.1%}')\n",
    "wild_od_acc = (wild_od_true_class == wild_od_pred_class).sum() / wild_od_true_class.shape[0]\n",
    "print(f'WILD OD accuracy: {wild_od_acc:.1%}')"
   ]
  },
  {
   "cell_type": "markdown",
   "id": "0085273e-9632-4137-bbb7-19978237668d",
   "metadata": {},
   "source": [
    "## Conformal prediction"
   ]
  },
  {
   "cell_type": "code",
   "execution_count": 17,
   "id": "403550b5-9c59-412c-8813-191084b33f37",
   "metadata": {},
   "outputs": [],
   "source": []
  },
  {
   "cell_type": "code",
   "execution_count": 147,
   "id": "072bad21-5119-4c6b-a7b5-8b512a47e801",
   "metadata": {},
   "outputs": [
    {
     "name": "stdout",
     "output_type": "stream",
     "text": [
      "IMAGENET coverage: 91.0%\n",
      "IMAGENET set size: 42.2\n",
      "CIFAR100 coverage: 91.0%\n",
      "CIFAR100 set size: 5.4\n",
      "WILD ID coverage: 92.1%\n",
      "WILD ID set size: 163.7\n",
      "WILD OD coverage: 92.1%\n",
      "WILD OD set size: 163.7\n"
     ]
    }
   ],
   "source": [
    "frac = 0.1\n",
    "alpha = 0.1\n",
    "\n",
    "imagenet_n = int(round(frac * len(imagenet_pred_scores)))\n",
    "imagenet_cal_scores = torch.tensor(imagenet_pred_scores[:imagenet_n])\n",
    "imagenet_cal_targets = torch.tensor(imagenet_true_class[:imagenet_n])\n",
    "imagenet_val_scores = torch.tensor(imagenet_pred_scores[imagenet_n:])\n",
    "imagenet_val_targets = torch.tensor(imagenet_true_class[imagenet_n:])\n",
    "\n",
    "imagenet_qhat = get_quantile(imagenet_cal_scores, imagenet_cal_targets, alpha=alpha)\n",
    "imagenet_psets = make_prediction_sets(imagenet_val_scores, imagenet_qhat)\n",
    "\n",
    "print(f'IMAGENET coverage: {get_coverage(imagenet_psets, imagenet_val_targets):.1%}')\n",
    "print(f'IMAGENET set size: {get_size(imagenet_psets):.1f}')\n",
    "\n",
    "wild_id_n = int(round(frac * len(wild_id_pred_scores)))\n",
    "wild_id_cal_scores = torch.tensor(wild_id_pred_scores[:wild_id_n])\n",
    "wild_id_cal_targets = torch.tensor(wild_id_true_class[:wild_id_n])\n",
    "wild_id_val_scores = torch.tensor(wild_id_pred_scores[wild_id_n:])\n",
    "wild_id_val_targets = torch.tensor(wild_id_true_class[wild_id_n:])\n",
    "\n",
    "wild_id_qhat = get_quantile(wild_id_cal_scores, wild_id_cal_targets, alpha=alpha)\n",
    "wild_id_psets = make_prediction_sets(wild_id_val_scores, wild_id_qhat)\n",
    "\n",
    "print(f'WILD ID coverage: {get_coverage(wild_id_psets, wild_id_val_targets):.1%}')\n",
    "print(f'WILD ID set size: {get_size(wild_id_psets):.1f}')\n",
    "\n",
    "wild_od_n = int(round(frac * len(wild_od_pred_scores)))\n",
    "wild_od_cal_scores = torch.tensor(wild_od_pred_scores[:wild_od_n])\n",
    "wild_od_cal_targets = torch.tensor(wild_od_true_class[:wild_od_n])\n",
    "wild_od_val_scores = torch.tensor(wild_od_pred_scores[wild_od_n:])\n",
    "wild_od_val_targets = torch.tensor(wild_od_true_class[wild_od_n:])\n",
    "\n",
    "wild_od_qhat = get_quantile(wild_od_cal_scores, wild_od_cal_targets, alpha=alpha)\n",
    "wild_od_psets = make_prediction_sets(wild_od_val_scores, wild_od_qhat)\n",
    "\n",
    "print(f'WILD OD coverage: {get_coverage(wild_od_psets, wild_od_val_targets):.1%}')\n",
    "print(f'WILD OD set size: {get_size(wild_od_psets):.1f}')"
   ]
  },
  {
   "cell_type": "code",
   "execution_count": 153,
   "id": "c34d9383-8725-4e62-a09e-dbe04a0fbeac",
   "metadata": {},
   "outputs": [],
   "source": [
    "sizes = [\n",
    "    cifar_psets.sum(1),\n",
    "    imagenet_psets.sum(1),\n",
    "    wild_id_psets.sum(1),\n",
    "]"
   ]
  },
  {
   "cell_type": "code",
   "execution_count": 185,
   "id": "f80386c1-ca5f-4489-8bfb-893027e09488",
   "metadata": {},
   "outputs": [
    {
     "data": {
      "text/plain": [
       "([<matplotlib.axis.YTick at 0x7f18e26e3c10>,\n",
       "  <matplotlib.axis.YTick at 0x7f18e26e35b0>,\n",
       "  <matplotlib.axis.YTick at 0x7f18e26e10c0>],\n",
       " [Text(0, 1, 'CIFAR100'),\n",
       "  Text(0, 2, 'Mini-ImageNet\\n(1000 classes)'),\n",
       "  Text(0, 3, 'WILDS\\niWildCam\\n(183 classes)')])"
      ]
     },
     "execution_count": 185,
     "metadata": {},
     "output_type": "execute_result"
    },
    {
     "data": {
      "image/png": "[encoded data removed]",
      "text/plain": [
       "<Figure size 1000x600 with 1 Axes>"
      ]
     },
     "metadata": {},
     "output_type": "display_data"
    }
   ],
   "source": [
    "fontsize=24\n",
    "plt.figure(figsize=(10, 6))\n",
    "plt.violinplot(sizes, vert=False, widths=1.0)\n",
    "plt.xlabel('Prediction set size', fontsize=fontsize)\n",
    "plt.xticks(fontsize=fontsize-4)\n",
    "plt.yticks(ticks=range(1, 4), labels=[f'CIFAR100', f'Mini-ImageNet\\n(1000 classes)', f'WILDS\\niWildCam\\n({len(wild_classes)} classes)'], fontsize=fontsize-6)"
   ]
  },
  {
   "cell_type": "code",
   "execution_count": null,
   "id": "3ecddbab-8a80-4f82-9f30-fcc37e8845b7",
   "metadata": {},
   "outputs": [],
   "source": [
    "fig, ax = plt.subplots(nrows=2, ncols=5, figsize=(10, 6))\n",
    "\n",
    "axs[1, 1].violinplot(data, pos, points=100, vert=False, widths=0.9,\n",
    "                     showmeans=True, showextrema=True, showmedians=True,\n",
    "                     bw_method='silverman')\n",
    "axs[1, 1].set_title('Custom violinplot 7', fontsize=fs)"
   ]
  },
  {
   "cell_type": "code",
   "execution_count": null,
   "id": "484ff946-3413-495a-beb6-ff65985186e9",
   "metadata": {},
   "outputs": [],
   "source": []
  },
  {
   "cell_type": "code",
   "execution_count": null,
   "id": "f68d122f-a079-41b7-83b4-7ad580450f65",
   "metadata": {},
   "outputs": [],
   "source": []
  },
  {
   "cell_type": "code",
   "execution_count": null,
   "id": "8465a6bb-6888-41c8-af1d-8cb234f3d748",
   "metadata": {},
   "outputs": [],
   "source": []
  }
 ],
 "metadata": {
  "kernelspec": {
   "display_name": "Python 3 (ipykernel)",
   "language": "python",
   "name": "python3"
  },
  "language_info": {
   "codemirror_mode": {
    "name": "ipython",
    "version": 3
   },
   "file_extension": ".py",
   "mimetype": "text/x-python",
   "name": "python",
   "nbconvert_exporter": "python",
   "pygments_lexer": "ipython3",
   "version": "3.9.15"
  }
 },
 "nbformat": 4,
 "nbformat_minor": 5
}
